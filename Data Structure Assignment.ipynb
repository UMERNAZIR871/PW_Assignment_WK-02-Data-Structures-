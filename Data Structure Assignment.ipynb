{
 "cells": [
  {
   "cell_type": "markdown",
   "id": "84cb21e9-0196-4e22-b3e1-fa6572a54e9c",
   "metadata": {},
   "source": [
    "# Data Types and Structures Assignment Questions"
   ]
  },
  {
   "cell_type": "markdown",
   "id": "03ccf44f-f661-4d0b-b028-97a6a13cc5e5",
   "metadata": {},
   "source": [
    "#    Data Types and Structures Questions"
   ]
  },
  {
   "cell_type": "markdown",
   "id": "2639437c-8245-4b83-b389-8ab6a10f9a24",
   "metadata": {},
   "source": [
    "**Q 1. What are data structures in python, and why are they important?**"
   ]
  },
  {
   "cell_type": "markdown",
   "id": "443bcd77-a748-409d-b0e4-66a97e37b7f5",
   "metadata": {},
   "source": [
    "**Ans.** In Python, data structures are built-in types and user-defined structures used to organize and store data efficiently. Python provides a rich set of built-in data structures, and also allows you to create your own using classes.\n",
    "\n",
    "Built-in Data Structures in Python:\n",
    "- List:\n",
    "    - Ordered, mutable (changeable), allows duplicates.\n",
    "    - Example: fruits = ['apple', 'banana', 'cherry']\n",
    "\n",
    "- Tuple:\n",
    "    - Ordered, immutable, allows duplicates.\n",
    "    - Example: coordinates = (10, 20)\n",
    "\n",
    " \n",
    "- Set:\n",
    "    - Unordered, no duplicates, mutable.\n",
    "    - Example: unique_numbers = {1, 2, 3}\n",
    "\n",
    "- Dictionary:\n",
    "    - Key-value pairs, unordered (in versions <3.7), mutable.\n",
    "    - Example: person = {'name': 'Alice', 'age': 30}\n",
    "\n",
    "\n",
    " Why Data Structures Are Important in Python:\n",
    "\n",
    "- Efficient Data Management:   They help organize and process large amounts of data quickly (e.g., using dictionaries for fast lookups).\n",
    "\n",
    "- Problem Solving:   The right structure simplifies coding solutions to complex problems (e.g., using stacks for undo functionality).\n",
    "\n",
    "- Built-in Support:   Python’s syntax and standard library make using and manipulating data structures very intuitive and powerful.\n",
    "\n",
    "- Foundation for Algorithms:   Understanding data structures is key to implementing and optimizing algorithms in Python."
   ]
  },
  {
   "cell_type": "markdown",
   "id": "8f66cf8d-3fe8-4ce8-8c46-d8fc13e22218",
   "metadata": {},
   "source": [
    "**Q2. Explain the difference between mutable and immutable data types with examples**"
   ]
  },
  {
   "cell_type": "markdown",
   "id": "23574af4-cd49-4d62-ba80-f4a2f096ac8f",
   "metadata": {},
   "source": [
    "**Ans.** In Python, data types are classified as either mutable or immutable depending on whether their internal values can be changed after the object is created.\n",
    "\n",
    "- Mutable Data Types:\n",
    "    - Definition: A mutable object allows modification of its contents without changing its identity (memory address).\n",
    "    - Key Point: Changes occur in place, and the original object is updated.\n",
    "    - Common Mutable Types: list, dict, set, bytearray\n",
    "    - Examples of Mutable Types:"
   ]
  },
  {
   "cell_type": "markdown",
   "id": "fd0fe68c-d925-419e-ab1d-d9b0cfbd6277",
   "metadata": {},
   "source": [
    "- List "
   ]
  },
  {
   "cell_type": "code",
   "execution_count": 1,
   "id": "97be9b58-f536-4c15-be90-3dd290bc1585",
   "metadata": {},
   "outputs": [
    {
     "name": "stdout",
     "output_type": "stream",
     "text": [
      "['apple', 'banana', 'orange']\n"
     ]
    }
   ],
   "source": [
    "# List Example\n",
    "fruits = ['apple', 'banana']\n",
    "fruits.append('orange')  # Adds to the list\n",
    "print(fruits)  # Output: ['apple', 'banana', 'orange']"
   ]
  },
  {
   "cell_type": "markdown",
   "id": "edb6acf4-b9d8-42eb-8b90-8a73dcb4ecdb",
   "metadata": {},
   "source": [
    "- Dictionary"
   ]
  },
  {
   "cell_type": "code",
   "execution_count": 2,
   "id": "a8d2281f-f74d-4ff5-bb71-391ef3a325de",
   "metadata": {},
   "outputs": [
    {
     "name": "stdout",
     "output_type": "stream",
     "text": [
      "{'name': 'Alice', 'age': 26}\n"
     ]
    }
   ],
   "source": [
    "# Dictionary Example\n",
    "person = {'name': 'Alice', 'age': 25}\n",
    "person['age'] = 26  # Modifies the existing key\n",
    "print(person)  # Output: {'name': 'Alice', 'age': 26}"
   ]
  },
  {
   "cell_type": "markdown",
   "id": "132a135b-af10-48a1-8809-523f039cf67c",
   "metadata": {},
   "source": [
    "- Set "
   ]
  },
  {
   "cell_type": "code",
   "execution_count": 3,
   "id": "d0a176af-7759-4899-b95d-013531c1b4df",
   "metadata": {},
   "outputs": [
    {
     "name": "stdout",
     "output_type": "stream",
     "text": [
      "{'green', 'blue', 'red'}\n"
     ]
    }
   ],
   "source": [
    "# Set Example\n",
    "colors = {'red', 'green'}\n",
    "colors.add('blue')  # Adds a new element\n",
    "print(colors)  # Output: {'red', 'green', 'blue'}"
   ]
  },
  {
   "cell_type": "markdown",
   "id": "e0d21270-db33-4385-ae9b-5ce05624eb56",
   "metadata": {},
   "source": [
    "- Bytearray"
   ]
  },
  {
   "cell_type": "code",
   "execution_count": 4,
   "id": "1b57a518-30b7-4b9c-b6c8-0b3fb844dfec",
   "metadata": {},
   "outputs": [
    {
     "name": "stdout",
     "output_type": "stream",
     "text": [
      "bytearray(b'Hello')\n"
     ]
    }
   ],
   "source": [
    "# Bytearray Example\n",
    "b = bytearray(b'hello')\n",
    "b[0] = 72  # Changes first byte (ASCII for 'H')\n",
    "print(b)  # Output: bytearray(b'Hello')"
   ]
  },
  {
   "cell_type": "markdown",
   "id": "9a46ac0f-fe87-4a4a-93aa-61f36c111dc4",
   "metadata": {},
   "source": [
    "- Immutable Data Types:\n",
    "    - Definition: An immutable object cannot be modified after creation. Any operation that alters its content results in a new object being created.\n",
    "    - Key Point: The original object remains unchanged.\n",
    "    - Common Immutable Types: int, float, bool, str, tuple, frozenset, bytes.\n",
    "    - Examples of Immutable Types:"
   ]
  },
  {
   "cell_type": "markdown",
   "id": "ae7f4fb2-b4ee-4a5d-8e1e-0fed7a19c549",
   "metadata": {},
   "source": [
    "- Integer"
   ]
  },
  {
   "cell_type": "code",
   "execution_count": 5,
   "id": "205505a6-e7e0-4538-b119-ce192f1399e2",
   "metadata": {},
   "outputs": [
    {
     "name": "stdout",
     "output_type": "stream",
     "text": [
      "11\n"
     ]
    }
   ],
   "source": [
    "# Integer Example\n",
    "x = 10\n",
    "x = x + 1  # Creates a new integer object\n",
    "print(x)  # Output: 11"
   ]
  },
  {
   "cell_type": "markdown",
   "id": "8999fa02-f8a3-4e8a-b9c5-4ae1b3a83bf8",
   "metadata": {},
   "source": [
    "- Float"
   ]
  },
  {
   "cell_type": "code",
   "execution_count": 6,
   "id": "9df5d613-7292-4b1e-8143-2fbdf59bd981",
   "metadata": {},
   "outputs": [
    {
     "name": "stdout",
     "output_type": "stream",
     "text": [
      "6.28\n"
     ]
    }
   ],
   "source": [
    "# Float Example\n",
    "pi = 3.14\n",
    "pi = pi * 2  # New object created\n",
    "print(pi)  # Output: 6.28"
   ]
  },
  {
   "cell_type": "markdown",
   "id": "f1bb7d4d-def3-41d3-ad39-e0cb8ec6075e",
   "metadata": {},
   "source": [
    "- Boolean"
   ]
  },
  {
   "cell_type": "code",
   "execution_count": 7,
   "id": "82be84e5-598d-4393-b21e-e963f009a2cb",
   "metadata": {},
   "outputs": [
    {
     "name": "stdout",
     "output_type": "stream",
     "text": [
      "False\n"
     ]
    }
   ],
   "source": [
    "# Boolean Example\n",
    "flag = True\n",
    "flag = not flag  # New boolean object\n",
    "print(flag)  # Output: False"
   ]
  },
  {
   "cell_type": "markdown",
   "id": "bfbb4f9d-3542-4cc2-ab03-da72e55086df",
   "metadata": {},
   "source": [
    "- String"
   ]
  },
  {
   "cell_type": "code",
   "execution_count": 8,
   "id": "02368632-a8f5-41b2-a69d-8e051aa00dc2",
   "metadata": {},
   "outputs": [
    {
     "name": "stdout",
     "output_type": "stream",
     "text": [
      "Hello World\n"
     ]
    }
   ],
   "source": [
    "# String Example \n",
    "\n",
    "greeting = \"Hello\"\n",
    "greeting += \" World\"  # New string created\n",
    "print(greeting)  # Output: \"Hello World\""
   ]
  },
  {
   "cell_type": "markdown",
   "id": "9c646625-d640-465d-9993-ea1385ef948b",
   "metadata": {},
   "source": [
    "- Tuple"
   ]
  },
  {
   "cell_type": "code",
   "execution_count": 14,
   "id": "44df0b05-5903-4652-8552-5222e4734b64",
   "metadata": {},
   "outputs": [
    {
     "ename": "TypeError",
     "evalue": "'tuple' object does not support item assignment",
     "output_type": "error",
     "traceback": [
      "\u001b[1;31m---------------------------------------------------------------------------\u001b[0m",
      "\u001b[1;31mTypeError\u001b[0m                                 Traceback (most recent call last)",
      "Cell \u001b[1;32mIn[14], line 3\u001b[0m\n\u001b[0;32m      1\u001b[0m \u001b[38;5;66;03m# Tuple Example with error\u001b[39;00m\n\u001b[0;32m      2\u001b[0m coordinates \u001b[38;5;241m=\u001b[39m (\u001b[38;5;241m10\u001b[39m, \u001b[38;5;241m20\u001b[39m)\n\u001b[1;32m----> 3\u001b[0m \u001b[43mcoordinates\u001b[49m\u001b[43m[\u001b[49m\u001b[38;5;241;43m0\u001b[39;49m\u001b[43m]\u001b[49m \u001b[38;5;241m=\u001b[39m \u001b[38;5;241m15\u001b[39m  \u001b[38;5;66;03m# Error: Tuples are immutable\u001b[39;00m\n\u001b[0;32m      4\u001b[0m \u001b[38;5;28mprint\u001b[39m(coordinates)\n",
      "\u001b[1;31mTypeError\u001b[0m: 'tuple' object does not support item assignment"
     ]
    }
   ],
   "source": [
    "# Tuple Example with error\n",
    "coordinates = (10, 20)\n",
    "coordinates[0] = 15  # Error: Tuples are immutable\n",
    "print(coordinates)"
   ]
  },
  {
   "cell_type": "code",
   "execution_count": 15,
   "id": "1372fa76-6787-4dc5-915a-92eb05403409",
   "metadata": {},
   "outputs": [
    {
     "name": "stdout",
     "output_type": "stream",
     "text": [
      "(10, 20)\n"
     ]
    }
   ],
   "source": [
    "# Tuple Example \n",
    "coordinates = (10, 20)\n",
    "# coordinates[0] = 15  # ❌ Error: Tuples are immutable\n",
    "print(coordinates)  # Output: (10, 20)"
   ]
  },
  {
   "cell_type": "markdown",
   "id": "797a84ea-05ba-425e-8804-7e355576cd37",
   "metadata": {},
   "source": [
    "- Frozenset"
   ]
  },
  {
   "cell_type": "code",
   "execution_count": 21,
   "id": "fba549da-2aeb-4cee-ada9-082c7061558d",
   "metadata": {},
   "outputs": [
    {
     "name": "stdout",
     "output_type": "stream",
     "text": [
      "frozenset({1, 2, 3})\n"
     ]
    }
   ],
   "source": [
    "# Frozenset Example\n",
    "fs = frozenset([1, 2, 3])\n",
    "# fs.add(4)  # ❌ Error: frozensets are immutable\n",
    "print(fs)  # Output: frozenset({1, 2, 3})"
   ]
  },
  {
   "cell_type": "markdown",
   "id": "2ec38d26-aaa4-49ba-85a8-104f20a5cc57",
   "metadata": {},
   "source": [
    "- Bytes"
   ]
  },
  {
   "cell_type": "code",
   "execution_count": 22,
   "id": "6cf4acf2-ce9a-488b-a600-16cd9d362b18",
   "metadata": {},
   "outputs": [
    {
     "name": "stdout",
     "output_type": "stream",
     "text": [
      "b'hello'\n"
     ]
    }
   ],
   "source": [
    "# Bytes Example\n",
    "data = b'hello'\n",
    "# data[0] = 72  # ❌ Error: bytes are immutable\n",
    "print(data)  # Output: b'hello'"
   ]
  },
  {
   "cell_type": "markdown",
   "id": "405661d5-bdee-46b1-8b66-ebb943f9a1c6",
   "metadata": {},
   "source": [
    "`Comparison Table`:\n",
    "\n",
    "| Feature                 | Mutable                            | Immutable                                   |\n",
    "| ----------------------- | ---------------------------------- | ------------------------------------------- |\n",
    "| Can be modified?        | ✅ Yes                              | ❌ No                                        |\n",
    "| Memory address changes? | ❌ No (same object)                 | ✅ Yes (new object created)                  |\n",
    "| Suitable for changes?   | Yes (dynamic content)              | No (fixed content)                          |\n",
    "| Common examples         | `list`, `dict`, `set`, `bytearray` | `int`, `str`, `tuple`, `frozenset`, `bytes` |\n",
    "\n",
    "\n",
    "`Important Ponits to remember` :\n",
    "- Understanding the difference between mutable and immutable types is crucial for:\n",
    "- Writing efficient and bug-free code\n",
    "- Avoiding unintended side effects when passing objects to functions\n",
    "- Managing memory and performance effectively in large applications"
   ]
  },
  {
   "cell_type": "markdown",
   "id": "14b5becc-5a37-44df-af29-a5980f9690a0",
   "metadata": {},
   "source": [
    "**Q 3. What are the main differences between lists and tuples in Python**"
   ]
  },
  {
   "cell_type": "markdown",
   "id": "05bd41f0-b4fc-4ae7-b7a6-97d7fa896440",
   "metadata": {},
   "source": [
    "**Ans.** The definitions of list and tuple in Python are as:\n",
    "- List:- A list in Python is an ordered, mutable collection of elements that can hold items of any data type. Lists allow duplicate values and support operations such as adding, removing, and updating elements.\n",
    "    - Syntax: Defined using square brackets []\n",
    "    - Example:   my_list = [1, 2, 3, 'apple']\n",
    "\n",
    "- Tuple :  A tuple in Python is an ordered, immutable collection of elements. Once a tuple is created, its contents cannot be changed. Like lists, tuples can contain elements of different data types and allow duplicates.\n",
    "    - Syntax: Defined using parentheses ()\n",
    "    - Example:   my_tuple = (1, 2, 3, 'apple')\n",
    "\n",
    "> Difference betwen List & Tuple are shown below: \n",
    "\n",
    "| Feature                      | **List**                                                    | **Tuple**                                         |\n",
    "| ---------------------------- | ----------------------------------------------------------- | ------------------------------------------------- |\n",
    "| **Definition**               | A list is a mutable sequence                                | A tuple is an immutable sequence                  |\n",
    "| **Syntax**                   | Created using square brackets `[]`                          | Created using parentheses `()`                    |\n",
    "| **Mutability**               | ✅ Mutable (can be changed)                                  | ❌ Immutable (cannot be changed)                   |\n",
    "| **Methods Available**        | Many built-in methods like `append()`, `remove()`, `sort()` | Fewer methods (mostly read-only)                  |\n",
    "| **Performance**              | Slower than tuples (more memory usage due to flexibility)   | Faster and more memory-efficient                  |\n",
    "| **Use Case**                 | Used for collections that may change (e.g. dynamic data)    | Used for fixed data (e.g. coordinates, constants) |\n",
    "| **Can be a dictionary key?** | ❌ No (not hashable)                                         | ✅ Yes (if elements are also immutable)            |"
   ]
  },
  {
   "cell_type": "code",
   "execution_count": 23,
   "id": "70a7cdfe-3d73-4608-a04a-6cf5735dd931",
   "metadata": {},
   "outputs": [
    {
     "name": "stdout",
     "output_type": "stream",
     "text": [
      "[1, 2, 3, 4]\n"
     ]
    }
   ],
   "source": [
    "# Example – List\n",
    "my_list = [1, 2, 3]\n",
    "my_list.append(4)\n",
    "print(my_list)  # Output: [1, 2, 3, 4]"
   ]
  },
  {
   "cell_type": "code",
   "execution_count": 24,
   "id": "b43dfb2b-5113-4837-a71d-714fa045eb90",
   "metadata": {},
   "outputs": [
    {
     "name": "stdout",
     "output_type": "stream",
     "text": [
      "(1, 2, 3)\n"
     ]
    }
   ],
   "source": [
    "# Example – Tuple\n",
    "my_tuple = (1, 2, 3)\n",
    "# my_tuple[0] = 10  # Error: Tuples are immutable\n",
    "print(my_tuple)  # Output: (1, 2, 3)"
   ]
  },
  {
   "cell_type": "markdown",
   "id": "9eaa8f97-ece0-4990-8d28-7dc905dde42c",
   "metadata": {},
   "source": [
    "**Q 4.  Describe how dictionaries store data.**"
   ]
  },
  {
   "cell_type": "markdown",
   "id": "ba4033d6-0cc8-4c8a-9407-60476fdbef1e",
   "metadata": {},
   "source": [
    "**Ans.** A dictionary in Python is an unordered, mutable collection that stores data in key-value pairs. It uses a highly optimized data structure called a hash table to store and retrieve values efficiently.\n",
    "\n",
    "- Basic Structure : A dictionary is written using curly braces `{}` with keys and values separated by a colon `:`\n",
    "    - Example:  person = { \"name\": \"Umer Nazir\", \"age\": 30, \"city\": \"Srinagar\"}\n",
    " - Each item consists of a key and a value.\n",
    " - Keys must be unique and immutable (e.g., strings, numbers, or tuples).\n",
    " - Values can be of any data type.\n",
    "\n",
    "> Internal Working (How Data is Stored)\n",
    "- Python dictionaries use a hash table for storage. Here's how it works:\n",
    "    - Hashing the Key:\n",
    "        - Python applies a hash function to each key using the built-in hash() function.\n",
    "        - The result is a hash value — an integer that determines where the key-value pair is placed in memory.\n",
    "\n",
    "    - Indexing:\n",
    "         - The hash value is mapped to an index in an internal array (the hash table).\n",
    "         - This index tells Python where to store or find the value.\n",
    "\n",
    "    - Handling Collisions:\n",
    "         - If two keys produce the same hash index, Python uses techniques like open addressing to resolve the conflict and find another available slot.\n",
    "    - Retrieval:\n",
    "        - To get a value, Python hashes the key, finds the corresponding index, and returns the associated value.\n",
    "        - Average time complexity for lookup, insert, and delete: O(1).\n",
    "\n",
    "🧪 Example below Python hashes 'score', locates it in memory, and retrieves 85."
   ]
  },
  {
   "cell_type": "code",
   "execution_count": 26,
   "id": "eaa54a7d-b31d-424c-bf66-a8bffb51f337",
   "metadata": {},
   "outputs": [
    {
     "name": "stdout",
     "output_type": "stream",
     "text": [
      "85\n"
     ]
    }
   ],
   "source": [
    "student = {'name': 'Umer Nazir', 'score': 85}\n",
    "print(student['score'])  # Output: 85"
   ]
  },
  {
   "cell_type": "markdown",
   "id": "b5647c2c-7ab4-4d2b-899b-f80ef12723b2",
   "metadata": {},
   "source": [
    "**Q 5. Why might you use a set instead of a list in Python?**"
   ]
  },
  {
   "cell_type": "markdown",
   "id": "36797ab0-0657-468f-8c6e-441ca1b82fcf",
   "metadata": {},
   "source": [
    "**Ans.** In Python, you might choose to use a set instead of a list for several key reasons:\n",
    "- Uniqueness of Elements:\n",
    "    - Sets automatically eliminate duplicates.\n",
    "    - If you want to store only unique items, a set is ideal."
   ]
  },
  {
   "cell_type": "code",
   "execution_count": 1,
   "id": "77f57da3-28aa-40e0-96a8-936b296b69a4",
   "metadata": {},
   "outputs": [
    {
     "name": "stdout",
     "output_type": "stream",
     "text": [
      "{1, 2, 3}\n"
     ]
    }
   ],
   "source": [
    "my_list = [1, 2, 2, 3] #list conatins duplicate entry\n",
    "my_set = set(my_list)\n",
    "print(my_set)  # Output: {1, 2, 3}"
   ]
  },
  {
   "cell_type": "markdown",
   "id": "45025205-525f-4a41-a8f8-f43b7f1a4329",
   "metadata": {},
   "source": [
    "- Faster Membership Testing: \n",
    "    - Sets use hash tables internally, making in checks much faster than lists."
   ]
  },
  {
   "cell_type": "code",
   "execution_count": 4,
   "id": "cfcad082-d3dd-4170-901d-991a2a84f4d2",
   "metadata": {},
   "outputs": [
    {
     "name": "stdout",
     "output_type": "stream",
     "text": [
      "True\n",
      "True\n"
     ]
    }
   ],
   "source": [
    "my_list = [1, 2, 3, 4, 5]\n",
    "my_set = {1, 2, 3, 4, 5}\n",
    "\n",
    "print(5 in my_list)  # Slower for large lists\n",
    "print(5 in my_set)   # Faster"
   ]
  },
  {
   "cell_type": "markdown",
   "id": "d14744a9-7f3e-490d-bbbc-d500d71971e5",
   "metadata": {},
   "source": [
    "- Built-in Set Operations:\n",
    "    - Sets support mathematical operations like union, intersection, difference, etc."
   ]
  },
  {
   "cell_type": "code",
   "execution_count": 3,
   "id": "2897f5d9-ec72-4025-b9f5-2fc61fca172d",
   "metadata": {},
   "outputs": [
    {
     "name": "stdout",
     "output_type": "stream",
     "text": [
      "{2, 3}\n",
      "{1, 2, 3, 4}\n"
     ]
    }
   ],
   "source": [
    "a = {1, 2, 3}\n",
    "b = {2, 3, 4}\n",
    "\n",
    "print(a & b)  # Intersection: {2, 3}\n",
    "print(a | b)  # Union: {1, 2, 3, 4}"
   ]
  },
  {
   "cell_type": "markdown",
   "id": "474ddca8-a9a9-4e56-ba69-0d7bbddf24f7",
   "metadata": {},
   "source": [
    "- When not to use a set:\n",
    "    - If you need to:\n",
    "        - Maintain the order of elements (use a list or collections.OrderedDict instead).\n",
    "        - Allow duplicates.\n",
    "        - Use elements that are not hashable (e.g., lists or other sets).\n",
    "\n",
    " \n",
    "**Summary of Set vs List**\n",
    "\n",
    "| Feature               | List     | Set              |\n",
    "| --------------------- | -------- | ---------------- |\n",
    "| Duplicates allowed    | ✅ Yes    | ❌ No             |\n",
    "| Order maintained      | ✅ Yes    | ❌ No (unordered) |\n",
    "| Membership test speed | ❌ Slower | ✅ Faster         |\n",
    "| Set operations        | ❌ No     | ✅ Yes            |\n"
   ]
  },
  {
   "cell_type": "markdown",
   "id": "7ba9c406-6af0-4998-a160-b7ebd3d9bd82",
   "metadata": {},
   "source": [
    "**Q 6. What is a string in Python, and how is it different from a list?**"
   ]
  },
  {
   "cell_type": "markdown",
   "id": "373eb713-190f-42c3-a41c-d69fe4895a84",
   "metadata": {},
   "source": [
    "**Ans.** A **string** is a sequence of characters enclosed in quotes `\" \"`. It is used to store and manipulate textual data. while as **list** is a sequence that can hold multiple data types, including numbers, strings, or even other lists, a list is enclosed in squae brackets `[]`\n",
    "\n",
    "- Key Differences Between a String and a List:\n",
    "\n",
    "| Feature    | String                          | List                            |\n",
    "| ---------- | ------------------------------- | ------------------------------- |\n",
    "| Data type  | Text (characters)               | Any data type (mixed allowed)   |\n",
    "| Syntax     | Enclosed in quotes              | Enclosed in square brackets     |\n",
    "| Mutability | ❌ Immutable (cannot be changed) | ✅ Mutable (can be changed)      |\n",
    "| Elements   | Individual characters           | Any type (e.g. int, str, bool)  |\n",
    "| Example    | `\"apple\"`                       | `[\"apple\", \"banana\", \"cherry\"]` |\n",
    "\n",
    "Examlpe of string & List are shoown below"
   ]
  },
  {
   "cell_type": "code",
   "execution_count": 8,
   "id": "c9ae656f-23fa-4db8-bc13-88f1247649cf",
   "metadata": {},
   "outputs": [
    {
     "name": "stdout",
     "output_type": "stream",
     "text": [
      "e\n"
     ]
    }
   ],
   "source": [
    "# Strin example\n",
    "my_string = \"Hello, world!\"\n",
    "s = \"hello\"\n",
    "print(s[1])      # 'e'\n",
    "# s[0] = \"H\"     # ❌ Error: strings are immutable\n"
   ]
  },
  {
   "cell_type": "code",
   "execution_count": 9,
   "id": "e2adbcad-033a-46ca-b7e5-4d89f55a63a9",
   "metadata": {},
   "outputs": [
    {
     "name": "stdout",
     "output_type": "stream",
     "text": [
      "e\n",
      "['H', 'e', 'l', 'l', 'o']\n"
     ]
    }
   ],
   "source": [
    "# List example \n",
    "l = [\"h\", \"e\", \"l\", \"l\", \"o\"]\n",
    "print(l[1])      # 'e'\n",
    "l[0] = \"H\"       # ✅ OK\n",
    "print(l)         # ['H', 'e', 'l', 'l', 'o']\n"
   ]
  },
  {
   "cell_type": "markdown",
   "id": "77ed79b7-3e1b-4273-b132-6f80475f12d9",
   "metadata": {},
   "source": [
    "**Q7.  How do tuples ensure data integrity in Python?**"
   ]
  },
  {
   "cell_type": "markdown",
   "id": "2c7a9ea0-08c1-43e4-a663-3f3ddb008ec3",
   "metadata": {},
   "source": [
    "**Ans.**  Tuples help ensure data integrity because they are immutable — meaning once created, they cannot be changed. This immutability provides several key benefits:\n",
    "\n",
    "- Prevents Accidental Changes: Once you store data in a tuple, no one can modify it (not even you, unless you create a new tuple)."
   ]
  },
  {
   "cell_type": "code",
   "execution_count": 10,
   "id": "39c80d09-a5a8-487b-809a-9aa9d2b64d9b",
   "metadata": {},
   "outputs": [],
   "source": [
    "person = (\"Alice\", 30)\n",
    "# person[1] = 31  ❌ This will raise a TypeError\n",
    "\n",
    "# This protects the data from accidental edits, helping maintain integrity"
   ]
  },
  {
   "cell_type": "markdown",
   "id": "b639ed2f-61c3-46b6-b872-1984ffbb808f",
   "metadata": {},
   "source": [
    "- Safe for Constants and Fixed Structures: Tuples are ideal for data that should not change, like:\n",
    "    - GPS coordinates\n",
    "    - RGB color values\n",
    "    - Database records"
   ]
  },
  {
   "cell_type": "code",
   "execution_count": 11,
   "id": "0827b204-a436-473a-8a73-0810f5d9b70d",
   "metadata": {},
   "outputs": [],
   "source": [
    "coordinates = (40.7128, -74.0060)  # New York City"
   ]
  },
  {
   "cell_type": "markdown",
   "id": "46263fe1-3a5b-4ad7-beba-2df6f34cb27d",
   "metadata": {},
   "source": [
    "- Hashable and Usable as Dictionary Keys:  Because they're immutable, tuples can be used as keys in dictionaries (lists can’t)."
   ]
  },
  {
   "cell_type": "code",
   "execution_count": 13,
   "id": "ee269c4c-74ae-4cdc-8994-4abd0de4640e",
   "metadata": {},
   "outputs": [],
   "source": [
    "location_data = {\n",
    "    (40.7128, -74.0060): \"New York\",\n",
    "    (34.0522, -118.2437): \"Los Angeles\"\n",
    "}\n",
    "# This ensures the keys (tuples) remain reliable over time."
   ]
  },
  {
   "cell_type": "markdown",
   "id": "f4748ce7-8e11-4035-81a6-6301dc298853",
   "metadata": {},
   "source": [
    "- Supports Structured and Predictable Data:\n",
    "    - Tuples help represent fixed data structures, similar to records in databases.\n",
    "    - Their fixed size and order ensure consistent data handling.\n",
    "\n",
    "**Summary**\n",
    "| Feature                 | Tuple Benefit                         |\n",
    "| ----------------------- | ------------------------------------- |\n",
    "| Immutable               | Prevents accidental changes           |\n",
    "| Hashable                | Usable as reliable dictionary keys    |\n",
    "| Fixed structure         | Great for consistent, structured data |\n",
    "| Protects data integrity | Ensures the data remains unmodified   |\n"
   ]
  },
  {
   "cell_type": "markdown",
   "id": "3b977ee4-22e5-479f-a059-4553f4eb132c",
   "metadata": {},
   "source": [
    "**Q 8. What is a hash table, and how does it relate to dictionaries in Python?**"
   ]
  },
  {
   "cell_type": "markdown",
   "id": "5431972a-b4b4-4df3-af1c-48bb52f7516a",
   "metadata": {},
   "source": [
    "**Ans.** A hash table is a data structure that stores key-value pairs and provides fast access to values based on their keys. It uses a hash function to convert each key into a unique number (called a hash), which determines where the value is stored in memory.\n",
    "\n",
    "**Working:** \n",
    "- You insert a key-value pair like \"name\": \"Alice\".\n",
    "- Python runs a hash function on \"name\" (e.g., hash(\"name\")).\n",
    "- That hash is used to find a memory location (called a \"bucket\").\n",
    "- The value \"Alice\" is stored at that location."
   ]
  },
  {
   "cell_type": "markdown",
   "id": "f79883a8-81ab-4142-9825-33c3517e8cc2",
   "metadata": {},
   "source": [
    "- In Python, the dict type is implemented using a hash table."
   ]
  },
  {
   "cell_type": "code",
   "execution_count": 14,
   "id": "67ab4710-1814-4fbe-a47f-4b7f15b65746",
   "metadata": {},
   "outputs": [],
   "source": [
    "person = {\n",
    "    \"name\": \"Alice\",\n",
    "    \"age\": 30,\n",
    "    \"city\": \"New York\"\n",
    "}"
   ]
  },
  {
   "cell_type": "markdown",
   "id": "5e9ea100-4470-4d0f-b9a0-b0179f1963ea",
   "metadata": {},
   "source": [
    "- \"name\" → hash → stored in a specific slot → points to \"Alice\"\n",
    "- Fast lookup: person[\"name\"] is O(1) on average — very fast!"
   ]
  },
  {
   "cell_type": "markdown",
   "id": "342cf35a-f8d8-4dfb-8772-334461a6bd6f",
   "metadata": {},
   "source": [
    "**Advantages of Using Hash Tables in dict:**\n",
    "\n",
    "| Feature                | Benefit                            |\n",
    "| ---------------------- | ---------------------------------- |\n",
    "| Fast lookups           | Average-case **O(1)** time         |\n",
    "| Efficient updates      | Insert/Update in constant time     |\n",
    "| Flexible keys          | As long as they are **hashable**   |\n",
    "| Easy key-value storage | No need for custom data structures |"
   ]
  },
  {
   "cell_type": "markdown",
   "id": "dc1e0ff1-b9f0-4c3a-94b8-7ca5008e597b",
   "metadata": {},
   "source": [
    "- Key Requirement: Keys Must Be Hashable: \n",
    "    - Immutable types like strings, numbers, and tuples are hashable.\n",
    "    - Mutable types like lists or other dicts are not hashable and can't be used as dictionary keys."
   ]
  },
  {
   "cell_type": "code",
   "execution_count": 15,
   "id": "399c6afa-8cc6-4e76-b0f1-56a941d99da3",
   "metadata": {},
   "outputs": [
    {
     "ename": "TypeError",
     "evalue": "unhashable type: 'list'",
     "output_type": "error",
     "traceback": [
      "\u001b[1;31m---------------------------------------------------------------------------\u001b[0m",
      "\u001b[1;31mTypeError\u001b[0m                                 Traceback (most recent call last)",
      "Cell \u001b[1;32mIn[15], line 2\u001b[0m\n\u001b[0;32m      1\u001b[0m \u001b[38;5;28mhash\u001b[39m(\u001b[38;5;124m\"\u001b[39m\u001b[38;5;124mhello\u001b[39m\u001b[38;5;124m\"\u001b[39m)     \u001b[38;5;66;03m# ✅ Works\u001b[39;00m\n\u001b[1;32m----> 2\u001b[0m \u001b[38;5;28;43mhash\u001b[39;49m\u001b[43m(\u001b[49m\u001b[43m[\u001b[49m\u001b[38;5;241;43m1\u001b[39;49m\u001b[43m,\u001b[49m\u001b[43m \u001b[49m\u001b[38;5;241;43m2\u001b[39;49m\u001b[43m,\u001b[49m\u001b[43m \u001b[49m\u001b[38;5;241;43m3\u001b[39;49m\u001b[43m]\u001b[49m\u001b[43m)\u001b[49m    \u001b[38;5;66;03m# ❌ TypeError: unhashable type\u001b[39;00m\n",
      "\u001b[1;31mTypeError\u001b[0m: unhashable type: 'list'"
     ]
    }
   ],
   "source": [
    "hash(\"hello\")     # ✅ Works\n",
    "hash([1, 2, 3])    # ❌ TypeError: unhashable type"
   ]
  },
  {
   "cell_type": "markdown",
   "id": "716e0d82-23fe-44df-b9d1-a8a1a1dff855",
   "metadata": {},
   "source": [
    "**Q 9. Can lists contain different data types in Python?**"
   ]
  },
  {
   "cell_type": "markdown",
   "id": "277ad4e3-d386-49dc-97b3-e1bb314d90ea",
   "metadata": {},
   "source": [
    "**Ans.** Python lists are heterogeneous, meaning they can store elements of any type, even mixed in the same list."
   ]
  },
  {
   "cell_type": "code",
   "execution_count": 17,
   "id": "413a6044-e4f2-47c5-839c-e47ccf751bce",
   "metadata": {},
   "outputs": [
    {
     "name": "stdout",
     "output_type": "stream",
     "text": [
      "[42, 'hello', 3.14, True, [1, 2, 3], {'a': 1}]\n"
     ]
    }
   ],
   "source": [
    "my_list = [42, \"hello\", 3.14, True, [1, 2, 3], {\"a\": 1}]\n",
    "print(my_list)"
   ]
  },
  {
   "cell_type": "markdown",
   "id": "2433afba-e205-4b50-b37a-5931a6bfd8ff",
   "metadata": {},
   "source": [
    "- This list contains:\n",
    "    - An integer (42)\n",
    "    - A string (\"hello\")\n",
    "    - A float (3.14)\n",
    "    - A boolean (True)\n",
    "    - Another list ([1, 2, 3])\n",
    "    - A dictionary ({\"a\": 1})\n",
    "\n",
    "\n",
    "- You can group related but different types of data together.\n",
    "- Great for quick prototyping or passing complex data structures.\n"
   ]
  },
  {
   "cell_type": "code",
   "execution_count": 18,
   "id": "8630f744-bb6c-4b4d-9149-5b4369fa91d0",
   "metadata": {},
   "outputs": [],
   "source": [
    "student = [\"Alice\", 20, 3.8, True]\n",
    "# Name (str), Age (int), GPA (float), Enrolled (bool)"
   ]
  },
  {
   "cell_type": "markdown",
   "id": "c68020e5-275c-43be-b81d-cab5a72228ab",
   "metadata": {},
   "source": [
    "- Things to Keep in Mind:\n",
    "    - Just because s can mix types doesn’t always mean you should — it can make code harder to understand or process.\n",
    "    - Be careful when looping or applying operations — you may need to check data types:"
   ]
  },
  {
   "cell_type": "code",
   "execution_count": 19,
   "id": "60d30efa-9395-4224-b209-4d0083d7fa27",
   "metadata": {},
   "outputs": [
    {
     "name": "stdout",
     "output_type": "stream",
     "text": [
      "String found: hello\n"
     ]
    }
   ],
   "source": [
    "for item in my_list:\n",
    "    if isinstance(item, str):\n",
    "        print(\"String found:\", item)\n"
   ]
  },
  {
   "cell_type": "markdown",
   "id": "55c80a08-2cc2-428a-87de-2ae5817a5715",
   "metadata": {},
   "source": [
    "**Q 10. Explain why strings are immutable in Python**"
   ]
  },
  {
   "cell_type": "markdown",
   "id": "661a1fd7-f887-4dc4-a8b2-60d1552e5ef4",
   "metadata": {},
   "source": [
    "**Ans.** Strings in Python are immutable, meaning you cannot change them after they're created. Instead, any \"modification\" creates a new string object.\n",
    "- Reasons Why Strings Are Immutable:\n",
    "-  Efficiency and Memory Optimization:\n",
    "    - Python reuses string objects in memory (string interning).\n",
    "    - This reduces memory usage and speeds up performance when the same string appears many times."
   ]
  },
  {
   "cell_type": "code",
   "execution_count": 20,
   "id": "1de87b3e-9f8b-4438-a1b2-04909c1fe3a2",
   "metadata": {},
   "outputs": [
    {
     "name": "stdout",
     "output_type": "stream",
     "text": [
      "True\n"
     ]
    }
   ],
   "source": [
    "a = \"hello\"\n",
    "b = \"hello\"\n",
    "print(a is b)  # ✅ True — both point to the same memory\n"
   ]
  },
  {
   "cell_type": "code",
   "execution_count": null,
   "id": "bab6f70f-9432-47f2-a130-3ac66c1e4149",
   "metadata": {},
   "outputs": [],
   "source": [
    "# If strings were mutable, this reuse could cause unexpected changes."
   ]
  },
  {
   "cell_type": "markdown",
   "id": "f7399506-7642-4687-a04a-d3e6fd3639e5",
   "metadata": {},
   "source": [
    "- Hashability and Dictionary Keys: \n",
    "    - Only immutable objects can be hashable.\n",
    "    - Since strings are hashable, they can be used as keys in dictionaries and elements in sets."
   ]
  },
  {
   "cell_type": "code",
   "execution_count": 21,
   "id": "8e0bd00f-d5d6-4cb7-acce-cb5c566a7149",
   "metadata": {},
   "outputs": [],
   "source": [
    "my_dict = {\"name\": \"Alice\"}  # Works because \"name\" is immutable\n"
   ]
  },
  {
   "cell_type": "code",
   "execution_count": null,
   "id": "69dc0f60-aa02-44aa-b47d-49d1a5e760e8",
   "metadata": {},
   "outputs": [],
   "source": [
    "# If strings were mutable, their hash could change, breaking dictionary lookups."
   ]
  },
  {
   "cell_type": "markdown",
   "id": "de2b4d0b-f947-4bf0-bafe-3ae72de25121",
   "metadata": {},
   "source": [
    "- Predictable Behavior and Safety:\n",
    "    - Immutability makes strings safer and more predictable:\n",
    "        - No part of your code can accidentally modify a string shared elsewhere.\n",
    "        - This is especially useful in large projects or multithreaded programs."
   ]
  },
  {
   "cell_type": "markdown",
   "id": "670f1d07-e554-48b5-94ad-b968f8e36f03",
   "metadata": {},
   "source": [
    "- What Happens If You Try to Modify a String?"
   ]
  },
  {
   "cell_type": "code",
   "execution_count": 24,
   "id": "8b235022-e319-4c81-b86a-0bcd0a8654a5",
   "metadata": {},
   "outputs": [
    {
     "ename": "SyntaxError",
     "evalue": "invalid character '❌' (U+274C) (1869766929.py, line 2)",
     "output_type": "error",
     "traceback": [
      "\u001b[1;36m  Cell \u001b[1;32mIn[24], line 2\u001b[1;36m\u001b[0m\n\u001b[1;33m    s[0] = \"H\"   ❌ Raises: TypeError: 'str' object does not support item assignment\u001b[0m\n\u001b[1;37m                 ^\u001b[0m\n\u001b[1;31mSyntaxError\u001b[0m\u001b[1;31m:\u001b[0m invalid character '❌' (U+274C)\n"
     ]
    }
   ],
   "source": [
    "s = \"hello\"\n",
    "s[0] = \"H\"   ❌ Raises: TypeError: 'str' object does not support item assignment"
   ]
  },
  {
   "cell_type": "code",
   "execution_count": 27,
   "id": "635d684b-eedd-45d4-bc2b-eb81b58d6200",
   "metadata": {},
   "outputs": [
    {
     "data": {
      "text/plain": [
       "'Hello'"
      ]
     },
     "execution_count": 27,
     "metadata": {},
     "output_type": "execute_result"
    }
   ],
   "source": [
    "# Instead, you must create a new string:\n",
    "\n",
    "s = \"hello\"\n",
    "s = \"H\" + s[1:]  # ✅ Creates a new string: \"Hello\"\n",
    "s"
   ]
  },
  {
   "cell_type": "markdown",
   "id": "48a9c2a6-844f-4d93-b435-13027c359f74",
   "metadata": {},
   "source": [
    "**Q 11. What advantages do dictionaries offer over lists for certain tasks**"
   ]
  },
  {
   "cell_type": "markdown",
   "id": "7a69a5d5-dce8-41a6-84e6-c3a1714cc567",
   "metadata": {},
   "source": [
    "**Ans.** Dictionaries (dict) and lists (list) are both powerful tools in Python — but they serve different purposes. For certain tasks, dictionaries offer clear advantages:\n",
    "\n",
    "- Fast Lookup by Key (O(1))\n",
    "    - Dictionaries use a hash table, so accessing a value by key is very fast (constant time).\n",
    "    - Lists require a search through the entire list if you don’t know the index (linear time)."
   ]
  },
  {
   "cell_type": "code",
   "execution_count": 29,
   "id": "0fb9f8e0-e830-465e-8454-6922c4cb4a4e",
   "metadata": {},
   "outputs": [
    {
     "name": "stdout",
     "output_type": "stream",
     "text": [
      "30\n",
      "30\n"
     ]
    }
   ],
   "source": [
    "# Dictionary: fast key lookup\n",
    "person = {\"name\": \"Umer Nazir\", \"age\": 30}\n",
    "print(person[\"age\"])  # ✅ Fast\n",
    "\n",
    "# List: slow if you need to search\n",
    "person_list = [\"Umer Nazir\", 30]\n",
    "print(person_list[1])  # ✅ But only if you know the position"
   ]
  },
  {
   "cell_type": "markdown",
   "id": "86251962-23e5-4dc8-8e74-5fa76be03115",
   "metadata": {},
   "source": [
    "- Named Keys Improve Readability\n",
    "    - In dictionaries, data is stored using key-value pairs.\n",
    "    - This makes code easier to understand, especially when data has meaning."
   ]
  },
  {
   "cell_type": "code",
   "execution_count": 31,
   "id": "4aadc81c-8644-4b6b-8bce-d346dc7ae483",
   "metadata": {},
   "outputs": [],
   "source": [
    "# Dictionary is self-descriptive\n",
    "person = {\"name\": \"Umer Nazir\", \"age\": 30}\n",
    "\n",
    "# List is less clear\n",
    "person = [\"Umer Nazir\", 30]\n"
   ]
  },
  {
   "cell_type": "markdown",
   "id": "766dd7ea-d9ad-47a0-ba0d-443119fe8dbc",
   "metadata": {},
   "source": [
    "- No Need to Remember Index Positions\n",
    "    - You don’t have to worry about the order of data — just access it by key."
   ]
  },
  {
   "cell_type": "code",
   "execution_count": 32,
   "id": "fb5e5206-443b-48d0-b994-048e6dbc18ac",
   "metadata": {},
   "outputs": [
    {
     "name": "stdout",
     "output_type": "stream",
     "text": [
      "5\n"
     ]
    }
   ],
   "source": [
    "inventory = {\"apple\": 10, \"banana\": 5}\n",
    "print(inventory[\"banana\"])  # ✅ No index counting needed"
   ]
  },
  {
   "cell_type": "markdown",
   "id": "4adb16e8-6da9-469a-a64e-21dc4dd65cc0",
   "metadata": {},
   "source": [
    "- Flexible and Dynamic Structure\n",
    "    - You can easily add, remove, or update items in a dictionary using keys."
   ]
  },
  {
   "cell_type": "code",
   "execution_count": 37,
   "id": "2e469d78-b957-4901-9095-cd17cd37aadd",
   "metadata": {},
   "outputs": [
    {
     "ename": "TypeError",
     "evalue": "list indices must be integers or slices, not str",
     "output_type": "error",
     "traceback": [
      "\u001b[1;31m---------------------------------------------------------------------------\u001b[0m",
      "\u001b[1;31mTypeError\u001b[0m                                 Traceback (most recent call last)",
      "Cell \u001b[1;32mIn[37], line 1\u001b[0m\n\u001b[1;32m----> 1\u001b[0m \u001b[43mperson\u001b[49m\u001b[43m[\u001b[49m\u001b[38;5;124;43m\"\u001b[39;49m\u001b[38;5;124;43memail\u001b[39;49m\u001b[38;5;124;43m\"\u001b[39;49m\u001b[43m]\u001b[49m \u001b[38;5;241m=\u001b[39m \u001b[38;5;124m\"\u001b[39m\u001b[38;5;124malice@example.com\u001b[39m\u001b[38;5;124m\"\u001b[39m  \u001b[38;5;66;03m# ✅ Easy to expand\u001b[39;00m\n",
      "\u001b[1;31mTypeError\u001b[0m: list indices must be integers or slices, not str"
     ]
    }
   ],
   "source": [
    "person[\"email\"] = \"alice@example.com\"  # ✅ Easy to expand\n"
   ]
  },
  {
   "cell_type": "markdown",
   "id": "4c9b7011-f9b9-4ad1-9973-d151a81e3a30",
   "metadata": {},
   "source": [
    "- Ideal for Structured or Labeled Data\n",
    "    - Dictionaries are great when data has labels or identifiers.\n",
    "    - Common in JSON, API responses, data records, etc."
   ]
  },
  {
   "cell_type": "code",
   "execution_count": 38,
   "id": "977209c0-659f-4bf6-b43b-0bd88ea8e576",
   "metadata": {},
   "outputs": [],
   "source": [
    "response = {\n",
    "    \"status\": \"success\",\n",
    "    \"code\": 200,\n",
    "    \"data\": {\"user_id\": 123}\n",
    "}"
   ]
  },
  {
   "cell_type": "markdown",
   "id": "1e1c5583-d6ba-43c0-b87a-044fa879a12d",
   "metadata": {},
   "source": [
    "**Summary:**\n",
    "\n",
    "| Feature       | Dictionary (`dict`)           | List (`list`)                  |\n",
    "| ------------- | ----------------------------- | ------------------------------ |\n",
    "| Access by key | ✅ Very fast (`O(1)`)          | ❌ Slow (`O(n)` if searching)   |\n",
    "| Readability   | ✅ High (keys are descriptive) | ❌ Low (indices are positional) |\n",
    "| Ideal for     | Labeled/structured data       | Ordered/unlabeled data         |\n",
    "| Flexibility   | ✅ Easy to add/update by key   | ❌ Must track index manually    |\n"
   ]
  },
  {
   "cell_type": "markdown",
   "id": "87cfad7c-7495-41ee-ad44-0c9a74de8be5",
   "metadata": {},
   "source": [
    "**Q 12. Describe a scenario where using a tuple would be preferable over a list?**"
   ]
  },
  {
   "cell_type": "markdown",
   "id": "8de92fa0-439b-4b4f-a7a9-a51c88ea5c0b",
   "metadata": {},
   "source": [
    "**Ans.** A tuple is preferable over a list when you need:\n",
    "- Fixed, unchangeable data\n",
    "- Reliable structure\n",
    "- Safe from modification\n",
    "\n",
    "- Example Scenario: Returning Multiple Values from a Function:  Let’s say we are writing a function that returns a student's name and GPA. We want to ensure that this result can’t be accidentally modified after it's returned.\n",
    "\n",
    "✅ Using a Tuple:"
   ]
  },
  {
   "cell_type": "code",
   "execution_count": 41,
   "id": "85ac51fc-51cb-4e9b-a229-ec045a4fae9b",
   "metadata": {},
   "outputs": [
    {
     "name": "stdout",
     "output_type": "stream",
     "text": [
      "Umer Nazir\n",
      "3.85\n"
     ]
    }
   ],
   "source": [
    "def get_student_info():\n",
    "    name = \"Umer Nazir\"\n",
    "    gpa = 3.85\n",
    "    return (name, gpa)\n",
    "\n",
    "info = get_student_info()\n",
    "print(info[0])  # \"Umer Nazir\"\n",
    "print(info[1])  # 3.85\n",
    "\n",
    "# info[0] = \"Bob\"  ❌ TypeError: tuple object does not support item assignment\n",
    "\n",
    "# This protects the integrity of the returned data."
   ]
  },
  {
   "cell_type": "markdown",
   "id": "072fe0b9-180b-4872-bc8b-566a85450d0d",
   "metadata": {},
   "source": [
    "- Tuple Works Better Here:\n",
    "    - The function's return values are fixed in meaning and order (e.g., always name and GPA).\n",
    "    - You don’t want external code to accidentally modify them.\n",
    "    - Tuples use less memory and are slightly faster than lists for fixed-size data."
   ]
  },
  {
   "cell_type": "markdown",
   "id": "06625deb-1413-4acd-bd71-aedf92abef1a",
   "metadata": {},
   "source": [
    "- When Not to Use a Tuple: If you need to change, reorder, or append elements — use a list instead."
   ]
  },
  {
   "cell_type": "markdown",
   "id": "65f4365c-f0cd-4129-bd6a-0ef4a1383a0f",
   "metadata": {},
   "source": [
    "**Q 13.  How do sets handle duplicate values in Python**"
   ]
  },
  {
   "cell_type": "markdown",
   "id": "6a544ada-88e6-43d2-af69-0520656d5b9c",
   "metadata": {},
   "source": [
    "**Ans.** Sets automatically remove duplicates. They only store unique elements — so if you try to add duplicates, they’ll be ignored."
   ]
  },
  {
   "cell_type": "code",
   "execution_count": 42,
   "id": "a1d23654-166f-4ac2-b2b9-be201c7caae6",
   "metadata": {},
   "outputs": [
    {
     "name": "stdout",
     "output_type": "stream",
     "text": [
      "{1, 2, 3}\n"
     ]
    }
   ],
   "source": [
    "my_set = {1, 2, 2, 3, 3, 3}\n",
    "print(my_set)  # Output: {1, 2, 3}\n"
   ]
  },
  {
   "cell_type": "markdown",
   "id": "12f97098-2ae4-4e83-9a25-13d9a0aa1cdd",
   "metadata": {},
   "source": [
    "Even though 2 and 3 appear multiple times in the input, the set only keeps one copy of each."
   ]
  },
  {
   "cell_type": "markdown",
   "id": "127c5e40-ff4f-4a93-b481-27b8b592e175",
   "metadata": {},
   "source": [
    "- What Happens When we Add a Duplicate?"
   ]
  },
  {
   "cell_type": "code",
   "execution_count": 43,
   "id": "b82df3b5-1fdd-4ad5-be85-7610f785bc1f",
   "metadata": {},
   "outputs": [
    {
     "name": "stdout",
     "output_type": "stream",
     "text": [
      "{1, 2, 3}\n"
     ]
    }
   ],
   "source": [
    "my_set = {1, 2, 3}\n",
    "my_set.add(2)\n",
    "print(my_set)  # Still: {1, 2, 3}\n"
   ]
  },
  {
   "cell_type": "markdown",
   "id": "a40a0b53-ae07-48c9-868d-ec6da7354f44",
   "metadata": {},
   "source": [
    "- The add() method silently ignores duplicates.\n",
    "- It doesn’t raise an error — it just does nothing if the item is already present."
   ]
  },
  {
   "cell_type": "markdown",
   "id": "4216c995-66af-4ccc-83fd-54be428589b5",
   "metadata": {},
   "source": [
    "- Sets are built on hash tables, so they use the element's hash value to determine uniqueness.\n",
    "\n",
    "- This allows fast O(1) checks for existence.\n",
    "\n",
    "- Use Cases for Sets:"
   ]
  },
  {
   "cell_type": "markdown",
   "id": "03bffc41-2aa4-466a-b716-d7042e7a9ac0",
   "metadata": {},
   "source": [
    "- Removing duplicates from a list:"
   ]
  },
  {
   "cell_type": "code",
   "execution_count": 49,
   "id": "592f2999-3663-4764-8865-5439b328b57e",
   "metadata": {},
   "outputs": [
    {
     "name": "stdout",
     "output_type": "stream",
     "text": [
      "{1, 2, 3}\n"
     ]
    }
   ],
   "source": [
    "my_list = [1, 2, 2, 3, 3]\n",
    "unique = set(my_list)\n",
    "print(unique)  # {1, 2, 3}\n"
   ]
  },
  {
   "cell_type": "markdown",
   "id": "dbed08ae-3304-49cd-bd5f-fe1f1de838c4",
   "metadata": {},
   "source": [
    "- Fast membership checks:"
   ]
  },
  {
   "cell_type": "code",
   "execution_count": 48,
   "id": "8ceb8f76-9809-4ec9-90a7-f6256939e204",
   "metadata": {},
   "outputs": [
    {
     "name": "stdout",
     "output_type": "stream",
     "text": [
      "3 is in the set\n"
     ]
    }
   ],
   "source": [
    "if 3 in my_set:\n",
    "    print(\"3 is in the set\")\n"
   ]
  },
  {
   "cell_type": "markdown",
   "id": "10dd3fd1-0455-4788-b054-d4d5b280020e",
   "metadata": {},
   "source": [
    "**Q 14.  How does the “in” keyword work differently for lists and dictionaries?**"
   ]
  },
  {
   "cell_type": "markdown",
   "id": "c296cd15-f3ee-4775-a449-fa0faad2cbb9",
   "metadata": {},
   "source": [
    "**Ans.** the `in` Keyword Work Differently for Lists and Dictionaries in Python\n",
    "- The `in` keyword is used to check for membership, but its behavior depends on the data type:\n",
    "\n",
    "- In a List — Checks for Values"
   ]
  },
  {
   "cell_type": "code",
   "execution_count": 50,
   "id": "dbb8ddb9-60aa-4b84-97f3-a47e4ac1f483",
   "metadata": {},
   "outputs": [
    {
     "name": "stdout",
     "output_type": "stream",
     "text": [
      "True\n",
      "False\n"
     ]
    }
   ],
   "source": [
    "fruits = [\"apple\", \"banana\", \"cherry\"]\n",
    "\n",
    "print(\"apple\" in fruits)   # ✅ True — value is found\n",
    "print(\"orange\" in fruits)  # ❌ False — not in the list\n"
   ]
  },
  {
   "cell_type": "markdown",
   "id": "b1f97102-1c0c-4be9-b80c-ef6e2cf3d8fe",
   "metadata": {},
   "source": [
    "- It searches each element in the list.\n",
    "- Time complexity: O(n) (slower with longer lists)"
   ]
  },
  {
   "cell_type": "markdown",
   "id": "b62278c4-053a-4481-82f3-dfe4e5d7e3a8",
   "metadata": {},
   "source": [
    "- In a Dictionary — Checks for Keys Only"
   ]
  },
  {
   "cell_type": "code",
   "execution_count": 52,
   "id": "dee99636-9284-40a5-972a-54de4051eae8",
   "metadata": {},
   "outputs": [
    {
     "name": "stdout",
     "output_type": "stream",
     "text": [
      "True\n",
      "False\n"
     ]
    }
   ],
   "source": [
    "person = {\"name\": \"Umer\", \"age\": 30}\n",
    "\n",
    "print(\"name\" in person)    # ✅ True — \"name\" is a key\n",
    "print(\"Umer\" in person)   # ❌ False — \"Umer\" is a value\n"
   ]
  },
  {
   "cell_type": "markdown",
   "id": "2d9f43af-96d7-4eab-b6c0-69277303ab18",
   "metadata": {},
   "source": [
    "- `in` checks for keys, not values.\n",
    "- Time complexity: O(1) on average (very fast due to hash table)"
   ]
  },
  {
   "cell_type": "markdown",
   "id": "14401e26-d6db-482f-a340-2100fe25a161",
   "metadata": {},
   "source": [
    "- To check for values in a dictionary, use .values():"
   ]
  },
  {
   "cell_type": "code",
   "execution_count": 55,
   "id": "a762d9b7-1f96-4990-bacc-88cad9627e8c",
   "metadata": {},
   "outputs": [
    {
     "name": "stdout",
     "output_type": "stream",
     "text": [
      "True\n"
     ]
    }
   ],
   "source": [
    "print(\"Umer\" in person.values())  # ✅ True"
   ]
  },
  {
   "cell_type": "markdown",
   "id": "5df4a2e3-9730-4fdf-9acb-ac9be3a7a1bf",
   "metadata": {},
   "source": [
    "**Q 15. Can you modify the elements of a tuple? Explain why or why not?**"
   ]
  },
  {
   "cell_type": "markdown",
   "id": "c1357b72-f83f-42e2-b2b7-aee8e0a81016",
   "metadata": {},
   "source": [
    "**Ans.** No, we cannot modify the elements of a tuple — because tuples are immutable."
   ]
  },
  {
   "cell_type": "markdown",
   "id": "51ac1f02-a79b-46f5-ad54-f76f22547675",
   "metadata": {},
   "source": [
    "- Immutability means that once a tuple is created, its contents can’t be changed such as:\n",
    "    - No adding elements\n",
    "    - No removing elements\n",
    "    - No changing existing values"
   ]
  },
  {
   "cell_type": "code",
   "execution_count": 1,
   "id": "b077f9ca-94c1-4704-9b54-8fa4ad23eb4a",
   "metadata": {},
   "outputs": [
    {
     "ename": "TypeError",
     "evalue": "'tuple' object does not support item assignment",
     "output_type": "error",
     "traceback": [
      "\u001b[1;31m---------------------------------------------------------------------------\u001b[0m",
      "\u001b[1;31mTypeError\u001b[0m                                 Traceback (most recent call last)",
      "Cell \u001b[1;32mIn[1], line 2\u001b[0m\n\u001b[0;32m      1\u001b[0m my_tuple \u001b[38;5;241m=\u001b[39m (\u001b[38;5;241m1\u001b[39m, \u001b[38;5;241m2\u001b[39m, \u001b[38;5;241m3\u001b[39m)\n\u001b[1;32m----> 2\u001b[0m \u001b[43mmy_tuple\u001b[49m\u001b[43m[\u001b[49m\u001b[38;5;241;43m0\u001b[39;49m\u001b[43m]\u001b[49m \u001b[38;5;241m=\u001b[39m \u001b[38;5;241m10\u001b[39m  \u001b[38;5;66;03m# ❌ TypeError: 'tuple' object does not support item assignment\u001b[39;00m\n",
      "\u001b[1;31mTypeError\u001b[0m: 'tuple' object does not support item assignment"
     ]
    }
   ],
   "source": [
    "# Example below shows error post changing items  \n",
    "my_tuple = (1, 2, 3)\n",
    "my_tuple[0] = 10  # ❌ TypeError: 'tuple' object does not support item assignment\n"
   ]
  },
  {
   "cell_type": "markdown",
   "id": "8c522212-8248-4bbd-b8f8-06d3004f40a8",
   "metadata": {},
   "source": [
    "- `Tuples Are Immutable because`:\n",
    "    - **Data integrity**:     Protects against accidental changes\n",
    "    - **Hashable**:           Can be used as keys in dictionaries\n",
    "    - **Performance**:        Slightly faster and more memory-efficient than lists\n",
    "    - **Predictability**:     Fixed structure makes code easier to reason about\n"
   ]
  },
  {
   "cell_type": "markdown",
   "id": "2f8561cc-9553-4085-8a97-7ce897265fe8",
   "metadata": {},
   "source": [
    "**Exception: Mutable Elements Inside a Tuple:**\n",
    "- A tuple can contain mutable objects, like a list — but the tuple itself still can’t be changed."
   ]
  },
  {
   "cell_type": "code",
   "execution_count": 2,
   "id": "fb985dad-981e-4303-806d-749a24f2040e",
   "metadata": {},
   "outputs": [
    {
     "name": "stdout",
     "output_type": "stream",
     "text": [
      "([1, 2, 3, 4], 'hello')\n"
     ]
    }
   ],
   "source": [
    "my_tuple = ([1, 2, 3], \"hello\")\n",
    "my_tuple[0].append(4)  # ✅ This works — you're modifying the list, not the tuple\n",
    "print(my_tuple)  # Output: ([1, 2, 3, 4], 'hello')\n"
   ]
  },
  {
   "cell_type": "markdown",
   "id": "86f7670c-d9ef-4c4c-b5c0-16eb5b1081b2",
   "metadata": {},
   "source": [
    "**Q 16.  What is a nested dictionary, and give an example of its use case?**"
   ]
  },
  {
   "cell_type": "markdown",
   "id": "e5ce8e57-9726-41db-b84e-c717e375d24d",
   "metadata": {},
   "source": [
    "**Ans.** A nested dictionary is a dictionary inside another dictionary — allowing us to store structured, hierarchical data."
   ]
  },
  {
   "cell_type": "code",
   "execution_count": 4,
   "id": "2acfcc11-f093-48bb-a02d-5fedaf4e7210",
   "metadata": {},
   "outputs": [],
   "source": [
    "# basic example \n",
    "students = {\n",
    "    \"Alice\": {\"age\": 20, \"major\": \"Math\"},\n",
    "    \"Bob\": {\"age\": 22, \"major\": \"CS\"},\n",
    "    \"Charlie\": {\"age\": 21, \"major\": \"Physics\"}\n",
    "}\n"
   ]
  },
  {
   "cell_type": "markdown",
   "id": "c2383b32-5d31-400f-bdfc-ff8338142402",
   "metadata": {},
   "source": [
    "- The outer dictionary maps each student's name to another dictionary.\n",
    "- The inner dictionary contains that student's details."
   ]
  },
  {
   "cell_type": "markdown",
   "id": "7661d9fd-6cd1-4b10-a211-4c5967be8ac9",
   "metadata": {},
   "source": [
    "`Use Case: Student Information System`\n",
    "\n",
    "**Suppose you're building a school database that stores:**\n",
    "- Student names\n",
    "- Their age\n",
    "- Their enrolled major or GPA\n",
    "\n",
    "`A nested dictionary allows you to organize this cleanly:`"
   ]
  },
  {
   "cell_type": "code",
   "execution_count": 2,
   "id": "917721a2-6205-4782-93db-5152aad43e62",
   "metadata": {},
   "outputs": [],
   "source": [
    "students = {\n",
    "    \"Alice\": {\n",
    "        \"age\": 20,\n",
    "        \"gpa\": 3.8,\n",
    "        \"courses\": [\"Math\", \"Statistics\"]\n",
    "    },\n",
    "    \"Bob\": {\n",
    "        \"age\": 22,\n",
    "        \"gpa\": 3.5,\n",
    "        \"courses\": [\"CS\", \"AI\"]\n",
    "    }\n",
    "}\n"
   ]
  },
  {
   "cell_type": "markdown",
   "id": "ae7ee0c9-6041-4a84-bde2-a396db2d53cd",
   "metadata": {},
   "source": [
    "Now Let's Accessing Nested Values:"
   ]
  },
  {
   "cell_type": "code",
   "execution_count": 3,
   "id": "7ba3e37d-85f3-4899-955e-e96776ececd2",
   "metadata": {},
   "outputs": [
    {
     "name": "stdout",
     "output_type": "stream",
     "text": [
      "3.8\n",
      "AI\n"
     ]
    }
   ],
   "source": [
    "print(students[\"Alice\"][\"gpa\"])       # Output 👉 3.8\n",
    "print(students[\"Bob\"][\"courses\"][1])  # Output 👉 \"AI\""
   ]
  },
  {
   "cell_type": "markdown",
   "id": "237160f7-b97c-456d-8a76-d4b038d60ef0",
   "metadata": {},
   "source": [
    "- Benefits of Nested Dictionaries:\n",
    "    - **Organized Data:** Clean structure for related details\n",
    "    - **Easy Lookup:** Access specific info via key chaining\n",
    "    - **Scalable:** Add more nested levels (e.g. address, grades)\n",
    "    - **Real-world modeling:**\tMimics JSON and other structured data formats"
   ]
  },
  {
   "cell_type": "markdown",
   "id": "39883e98-b3bb-47fd-8d0d-e5e3e5f70047",
   "metadata": {},
   "source": [
    "**Q 17. Describe the time complexity of accessing elements in a dictionary** "
   ]
  },
  {
   "cell_type": "markdown",
   "id": "d9f42b6a-a203-478a-a318-6e24cf3e9a25",
   "metadata": {},
   "source": [
    "**Ans.** In Python, accessing an element in a dictionary by key has an average time complexity of O(1) due to its hash table implementation."
   ]
  },
  {
   "cell_type": "code",
   "execution_count": 5,
   "id": "fe09089f-51bd-4039-8ecb-e666957df0ea",
   "metadata": {},
   "outputs": [
    {
     "name": "stdout",
     "output_type": "stream",
     "text": [
      "Umer\n"
     ]
    }
   ],
   "source": [
    "# Example \n",
    "employee = {\"id\": 101, \"name\": \"Umer\", \"role\": \"Manager\"}\n",
    "print(employee[\"name\"])  # O(1) access\n"
   ]
  },
  {
   "cell_type": "markdown",
   "id": "67d7f19d-8939-413f-b403-5d7d3033321f",
   "metadata": {},
   "source": [
    "This operation is efficient because Python hashes the key (\"name\") to find the value directly."
   ]
  },
  {
   "cell_type": "markdown",
   "id": "6b6600ec-edef-4358-b4b1-437b52383949",
   "metadata": {},
   "source": [
    "**Worst Case:**\n",
    "- Time complexity: O(n)\n",
    "- Occurs only in rare cases with hash collisions, but Python minimizes this risk through internal optimizations."
   ]
  },
  {
   "cell_type": "markdown",
   "id": "40c8bc4a-f542-4de3-9561-24868475d30f",
   "metadata": {},
   "source": [
    "**Q 18. In what situations are lists preferred over dictionaries?**"
   ]
  },
  {
   "cell_type": "markdown",
   "id": "873b6afd-a46d-4ba5-87cf-8272bdf7df3d",
   "metadata": {},
   "source": [
    "**Ans.** While dictionaries offer fast key-based access, lists are better in certain situations:\n",
    "- **Ordered Data Matters**: Use a list when order is important, such as:"
   ]
  },
  {
   "cell_type": "code",
   "execution_count": 6,
   "id": "b9d1c95a-7499-46ff-8d65-629e10064100",
   "metadata": {},
   "outputs": [],
   "source": [
    "tasks = [\"Start\", \"Process\", \"Finish\"]"
   ]
  },
  {
   "cell_type": "markdown",
   "id": "7f151a9a-cf42-4ede-a176-bd4f5021caaa",
   "metadata": {},
   "source": [
    "- **Sequential Access**: When processing data in order (e.g., loops, ranges), lists are simpler:"
   ]
  },
  {
   "cell_type": "code",
   "execution_count": 8,
   "id": "4243e419-931d-48ff-ba37-c669581315a2",
   "metadata": {},
   "outputs": [
    {
     "name": "stdout",
     "output_type": "stream",
     "text": [
      "10\n",
      "20\n",
      "30\n"
     ]
    }
   ],
   "source": [
    "for item in [10, 20, 30]:\n",
    "    print(item)"
   ]
  },
  {
   "cell_type": "markdown",
   "id": "faebcd21-dc38-4e02-b91d-fe782dd347df",
   "metadata": {},
   "source": [
    "- **ndex-Based Access**: If you rely on numeric positions:"
   ]
  },
  {
   "cell_type": "code",
   "execution_count": 9,
   "id": "5ac03071-0acd-4a9a-9cbc-bc1104feb3b4",
   "metadata": {},
   "outputs": [
    {
     "name": "stdout",
     "output_type": "stream",
     "text": [
      "Bob\n"
     ]
    }
   ],
   "source": [
    "names = [\"Alice\", \"Bob\", \"Charlie\"]\n",
    "print(names[1])  # \"Bob\"\n"
   ]
  },
  {
   "cell_type": "markdown",
   "id": "808f06a7-cfc4-4590-a772-ddcbeefe33a8",
   "metadata": {},
   "source": [
    "- **Homogeneous Data**: Use lists for collections of similar items:"
   ]
  },
  {
   "cell_type": "code",
   "execution_count": 13,
   "id": "0b308d79-3674-4b0e-85f9-e183d943b160",
   "metadata": {},
   "outputs": [
    {
     "data": {
      "text/plain": [
       "[90, 85, 88]"
      ]
     },
     "execution_count": 13,
     "metadata": {},
     "output_type": "execute_result"
    }
   ],
   "source": [
    "scores = [90, 85, 88]\n",
    "scores"
   ]
  },
  {
   "cell_type": "markdown",
   "id": "be57e7e6-74fe-4383-90de-64fe4a48018a",
   "metadata": {},
   "source": [
    "- **Memory Efficiency**: Lists use less memory than dictionaries when storing simple values."
   ]
  },
  {
   "cell_type": "markdown",
   "id": "fdc2eca2-65c5-48ad-8c0f-36840fe3f4cc",
   "metadata": {},
   "source": [
    "**Q 19. Why are dictionaries considered unordered, and how does that affect data retrieval**"
   ]
  },
  {
   "cell_type": "markdown",
   "id": "3b1ae143-35b5-4b51-9852-8546ec48e6aa",
   "metadata": {},
   "source": [
    "**Ans.** In Python, a data structure is unordered when it doesn't guarantee elements will stay in a specific order — like insertion order — unless explicitly stated."
   ]
  },
  {
   "cell_type": "markdown",
   "id": "03118475-49f1-4d52-8907-dcb712fe6dc3",
   "metadata": {},
   "source": [
    "- Before Python 3.7:\n",
    "    - Dictionaries did not preserve the order of items.\n",
    "    - Keys and values were stored based on hash values, not the order they were added.\n",
    "\n",
    "- From Python 3.7 onward:\n",
    "    - Insertion order is preserved, but dictionaries are still considered unordered because:\n",
    "        - They are optimized for key-based access, not position.\n",
    "        - You can’t access elements by numerical index like a list."
   ]
  },
  {
   "cell_type": "code",
   "execution_count": 14,
   "id": "9d4636f7-8d88-44b0-b2da-74a5251b7943",
   "metadata": {},
   "outputs": [
    {
     "name": "stdout",
     "output_type": "stream",
     "text": [
      "Alice\n"
     ]
    },
    {
     "ename": "KeyError",
     "evalue": "1",
     "output_type": "error",
     "traceback": [
      "\u001b[1;31m---------------------------------------------------------------------------\u001b[0m",
      "\u001b[1;31mKeyError\u001b[0m                                  Traceback (most recent call last)",
      "Cell \u001b[1;32mIn[14], line 4\u001b[0m\n\u001b[0;32m      2\u001b[0m data \u001b[38;5;241m=\u001b[39m {\u001b[38;5;124m\"\u001b[39m\u001b[38;5;124mid\u001b[39m\u001b[38;5;124m\"\u001b[39m: \u001b[38;5;241m101\u001b[39m, \u001b[38;5;124m\"\u001b[39m\u001b[38;5;124mname\u001b[39m\u001b[38;5;124m\"\u001b[39m: \u001b[38;5;124m\"\u001b[39m\u001b[38;5;124mAlice\u001b[39m\u001b[38;5;124m\"\u001b[39m, \u001b[38;5;124m\"\u001b[39m\u001b[38;5;124mrole\u001b[39m\u001b[38;5;124m\"\u001b[39m: \u001b[38;5;124m\"\u001b[39m\u001b[38;5;124mManager\u001b[39m\u001b[38;5;124m\"\u001b[39m}\n\u001b[0;32m      3\u001b[0m \u001b[38;5;28mprint\u001b[39m(data[\u001b[38;5;124m\"\u001b[39m\u001b[38;5;124mname\u001b[39m\u001b[38;5;124m\"\u001b[39m])  \u001b[38;5;66;03m# ✅ \"Alice\" — key-based retrieval\u001b[39;00m\n\u001b[1;32m----> 4\u001b[0m \u001b[38;5;28mprint\u001b[39m(\u001b[43mdata\u001b[49m\u001b[43m[\u001b[49m\u001b[38;5;241;43m1\u001b[39;49m\u001b[43m]\u001b[49m)       \u001b[38;5;66;03m# ❌ Error — dictionaries do not support index-based access\u001b[39;00m\n",
      "\u001b[1;31mKeyError\u001b[0m: 1"
     ]
    }
   ],
   "source": [
    "# Example \n",
    "data = {\"id\": 101, \"name\": \"Alice\", \"role\": \"Manager\"}\n",
    "print(data[\"name\"])  # ✅ \"Alice\" — key-based retrieval\n",
    "print(data[1])       # ❌ Error — dictionaries do not support index-based access\n"
   ]
  },
  {
   "cell_type": "markdown",
   "id": "5e10f7f2-e9b0-43cd-a6c2-0f1dfb7581ca",
   "metadata": {},
   "source": [
    "Even though \"name\" was inserted second, you can’t retrieve it using position."
   ]
  },
  {
   "cell_type": "markdown",
   "id": "37b1263c-2405-42ed-85c7-9490f14db7da",
   "metadata": {},
   "source": [
    "- **Impact on Data Retrieval**:\n",
    "    - You can’t rely on position to access values in a dictionary.\n",
    "    - Access must be through keys — which requires knowing the exact key name.\n",
    "    - Looping through a dictionary (e.g., using for key in dict) will follow insertion order in Python 3.7+, but this is for convenience, not for positional access."
   ]
  },
  {
   "cell_type": "markdown",
   "id": "5fa0f18b-bc19-485f-8d93-0a4f316c01fd",
   "metadata": {},
   "source": [
    "**Q 20.  Explain the difference between a list and a dictionary in terms of data retrieval**"
   ]
  },
  {
   "cell_type": "markdown",
   "id": "9b4c209e-2c17-4281-9a84-4d53d14f0737",
   "metadata": {},
   "source": [
    "**Ans.** The Difference Between a List and a Dictionary in Terms of Data Retrieval: "
   ]
  },
  {
   "cell_type": "markdown",
   "id": "8a6934b9-8fec-4472-97d8-ebdec374d182",
   "metadata": {},
   "source": [
    "- List – Index-Based Retrieval:\n",
    "    - Lists store items in a specific order.\n",
    "    - Elements are retrieved using integer indices.\n",
    "    -  Uses position (index)\n",
    "    -  Slower to search by value (O(n))"
   ]
  },
  {
   "cell_type": "code",
   "execution_count": 15,
   "id": "aaf170f0-f229-4673-802b-2c04bce112b6",
   "metadata": {},
   "outputs": [
    {
     "name": "stdout",
     "output_type": "stream",
     "text": [
      "banana\n"
     ]
    }
   ],
   "source": [
    "# Example \n",
    "fruits = [\"apple\", \"banana\", \"cherry\"]\n",
    "print(fruits[1])  # Output: \"banana\""
   ]
  },
  {
   "cell_type": "markdown",
   "id": "b7c52c17-3aef-4efe-ba9d-fc6d30773ef0",
   "metadata": {},
   "source": [
    "- Dictionary – Key-Based Retrieval\n",
    "    - Dictionaries store key-value pairs.\n",
    "    - Elements are retrieved using a key, not a position.\n",
    "    -  Uses unique keys\n",
    "    -  Fast lookup (average O(1))\n",
    "    -  No access by index (e.g., person[1] is invalid)"
   ]
  },
  {
   "cell_type": "code",
   "execution_count": 16,
   "id": "8273f4f7-4b05-487e-b654-83773ad2ca55",
   "metadata": {},
   "outputs": [
    {
     "name": "stdout",
     "output_type": "stream",
     "text": [
      "30\n"
     ]
    }
   ],
   "source": [
    "# Example \n",
    "person = {\"name\": \"Alice\", \"age\": 30}\n",
    "print(person[\"age\"])  # Output: 30\n"
   ]
  },
  {
   "cell_type": "markdown",
   "id": "d79d698b-30d2-4c99-806d-8be08fd9c514",
   "metadata": {},
   "source": [
    "#     Practical Questions"
   ]
  },
  {
   "cell_type": "markdown",
   "id": "b77a9516-3b97-4d70-9401-cb133276a519",
   "metadata": {},
   "source": [
    "**Q 1. Write a code to create a string with your name and print it?**"
   ]
  },
  {
   "cell_type": "markdown",
   "id": "16b07a05-b132-4a66-b7c4-c00d1fd7df10",
   "metadata": {},
   "source": [
    "**Ans.** Python Code to Create a string with my name is"
   ]
  },
  {
   "cell_type": "code",
   "execution_count": 17,
   "id": "ecebbade-ac05-4a9b-a01b-590a95d5b268",
   "metadata": {},
   "outputs": [
    {
     "name": "stdout",
     "output_type": "stream",
     "text": [
      "My name is: Umer Nazir\n"
     ]
    }
   ],
   "source": [
    "# Create a string with your name\n",
    "name = \"Umer Nazir\"\n",
    "\n",
    "# Print the name\n",
    "print(\"My name is:\", name)\n"
   ]
  },
  {
   "cell_type": "markdown",
   "id": "01481d13-c5f8-4dca-8d6b-9ab434dc6599",
   "metadata": {},
   "source": [
    "**Q 2. Write a code to find the length of the string \"Hello World\"?**"
   ]
  },
  {
   "cell_type": "markdown",
   "id": "da9ffe75-e2e1-4642-83fc-833e1be6472b",
   "metadata": {},
   "source": [
    "**Ans.** Python code to find the length of the string \"Hello World\""
   ]
  },
  {
   "cell_type": "code",
   "execution_count": 20,
   "id": "1f51c906-f13d-4c48-a9f7-5ce97dcc15bd",
   "metadata": {},
   "outputs": [
    {
     "name": "stdout",
     "output_type": "stream",
     "text": [
      "Length of the string: 11\n"
     ]
    }
   ],
   "source": [
    "# Define the string\n",
    "text = \"Hello World\"\n",
    "\n",
    "# Find and print the length\n",
    "length = len(text)\n",
    "print(\"Length of the string:\", length)\n"
   ]
  },
  {
   "cell_type": "markdown",
   "id": "3e52e278-246b-487b-83f4-fdf3f4eb3726",
   "metadata": {},
   "source": [
    "**Q 3. Write a code to slice the first 3 characters from the string \"Python Programming\"?**"
   ]
  },
  {
   "cell_type": "markdown",
   "id": "9f7ed492-6909-4c27-a9e9-b0d1821c1ad4",
   "metadata": {},
   "source": [
    "**Ans.** The Python code to slice the first 3 characters from the string \"Python Programming\":"
   ]
  },
  {
   "cell_type": "code",
   "execution_count": 19,
   "id": "2912b5a2-37d7-421d-acc0-4c0ee3bc7842",
   "metadata": {},
   "outputs": [
    {
     "name": "stdout",
     "output_type": "stream",
     "text": [
      "First 3 characters: Pyt\n"
     ]
    }
   ],
   "source": [
    "# Define the string\n",
    "text = \"Python Programming\"\n",
    "\n",
    "# Slice the first 3 characters\n",
    "sliced = text[:3]\n",
    "\n",
    "# Print the result\n",
    "print(\"First 3 characters:\", sliced)\n"
   ]
  },
  {
   "cell_type": "markdown",
   "id": "0f587617-e116-45a2-b753-136c20a471bd",
   "metadata": {},
   "source": [
    "**Q 4. Write a code to convert the string \"hello\" to uppercase.**"
   ]
  },
  {
   "cell_type": "markdown",
   "id": "7818fabf-fd9b-4909-ad5f-5f27bc5c7bc6",
   "metadata": {},
   "source": [
    "**Ans.** Python code to convert the string \"hello\" to uppercase:"
   ]
  },
  {
   "cell_type": "code",
   "execution_count": 21,
   "id": "1ad33634-cc23-4456-aba9-e92db60b1f20",
   "metadata": {},
   "outputs": [
    {
     "name": "stdout",
     "output_type": "stream",
     "text": [
      "Uppercase: HELLO\n"
     ]
    }
   ],
   "source": [
    "# Define the string\n",
    "text = \"hello\"\n",
    "\n",
    "# Convert to uppercase\n",
    "uppercase_text = text.upper()\n",
    "\n",
    "# Print the result\n",
    "print(\"Uppercase:\", uppercase_text)\n"
   ]
  },
  {
   "cell_type": "markdown",
   "id": "4acab31b-032b-4f67-952a-c1e7e90a1068",
   "metadata": {},
   "source": [
    "**Q 5.  Write a code to replace the word \"apple\" with \"orange\" in the string \"I like apple\".**"
   ]
  },
  {
   "cell_type": "markdown",
   "id": "e167732e-fafc-4a65-a0ca-06de4bc27d38",
   "metadata": {},
   "source": [
    "**Ans.** Python code to replace the word \"apple\" with \"orange\" in the string \"I like apple\":"
   ]
  },
  {
   "cell_type": "code",
   "execution_count": 22,
   "id": "22769fcd-75c8-4a88-9cbe-29ada89d1c6a",
   "metadata": {},
   "outputs": [
    {
     "name": "stdout",
     "output_type": "stream",
     "text": [
      "I like orange\n"
     ]
    }
   ],
   "source": [
    "# Define the original string\n",
    "text = \"I like apple\"\n",
    "\n",
    "# Replace \"apple\" with \"orange\"\n",
    "new_text = text.replace(\"apple\", \"orange\")\n",
    "\n",
    "# Print the result\n",
    "print(new_text)\n"
   ]
  },
  {
   "cell_type": "markdown",
   "id": "2ab7ba73-6501-4ff4-b54e-fc415b5b55a2",
   "metadata": {},
   "source": [
    "**Q 6.  Write a code to create a list with numbers 1 to 5 and print it.**"
   ]
  },
  {
   "cell_type": "markdown",
   "id": "8662d3cf-dc54-438e-a512-feb32f58a309",
   "metadata": {},
   "source": [
    "**Ans.**  Python code to create a list with numbers from 1 to 5 and print it:"
   ]
  },
  {
   "cell_type": "code",
   "execution_count": 23,
   "id": "358fe268-a54a-4a5e-90c6-1760c3dd7663",
   "metadata": {},
   "outputs": [
    {
     "name": "stdout",
     "output_type": "stream",
     "text": [
      "[1, 2, 3, 4, 5]\n"
     ]
    }
   ],
   "source": [
    "# Create the list\n",
    "numbers = [1, 2, 3, 4, 5]\n",
    "\n",
    "# Print the list\n",
    "print(numbers)\n"
   ]
  },
  {
   "cell_type": "markdown",
   "id": "4eaaddd9-13ed-4f55-89be-233e509d97ec",
   "metadata": {},
   "source": [
    "**Q 7.  Write a code to append the number 10 to the list [1, 2, 3, 4].**"
   ]
  },
  {
   "cell_type": "markdown",
   "id": "1ff08df0-45bd-4279-b94a-b8669762c268",
   "metadata": {},
   "source": [
    "**Ans.** Python code to append the number 10 to the list [1, 2, 3, 4]:"
   ]
  },
  {
   "cell_type": "code",
   "execution_count": 24,
   "id": "4d49c7c7-1586-4c75-b7bc-4016772092ff",
   "metadata": {},
   "outputs": [
    {
     "name": "stdout",
     "output_type": "stream",
     "text": [
      "[1, 2, 3, 4, 10]\n"
     ]
    }
   ],
   "source": [
    "# Define the list\n",
    "numbers = [1, 2, 3, 4]\n",
    "\n",
    "# Append 10 to the list\n",
    "numbers.append(10)\n",
    "\n",
    "# Print the updated list\n",
    "print(numbers)\n"
   ]
  },
  {
   "cell_type": "markdown",
   "id": "1bb7f1a0-9239-49bf-bc5f-1a76d76a6e04",
   "metadata": {},
   "source": [
    "**Q 8. Write a code to remove the number 3 from the list [1, 2, 3, 4, 5].**"
   ]
  },
  {
   "cell_type": "code",
   "execution_count": null,
   "id": "0a7130c3-c52d-4399-953e-ec78fb6bdb37",
   "metadata": {},
   "outputs": [],
   "source": [
    "**Ans.** Python code to remove the number 3 from the list [1, 2, 3, 4, 5]:"
   ]
  },
  {
   "cell_type": "code",
   "execution_count": 25,
   "id": "832fbeae-553a-422c-8475-7cfb75653fa7",
   "metadata": {},
   "outputs": [
    {
     "name": "stdout",
     "output_type": "stream",
     "text": [
      "[1, 2, 4, 5]\n"
     ]
    }
   ],
   "source": [
    "# Define the list\n",
    "numbers = [1, 2, 3, 4, 5]\n",
    "\n",
    "# Remove the number 3\n",
    "numbers.remove(3)\n",
    "\n",
    "# Print the updated list\n",
    "print(numbers)\n"
   ]
  },
  {
   "cell_type": "markdown",
   "id": "aa60c238-97b8-4f07-9e9a-9cdddd7a794f",
   "metadata": {},
   "source": [
    "**Q 9. Write a code to access the second element in the list ['a', 'b', 'c', 'd'].**"
   ]
  },
  {
   "cell_type": "markdown",
   "id": "c18fd751-e0e3-43bd-b7a6-a57e6fc7db41",
   "metadata": {},
   "source": [
    "**Ans.** Python code to access the second element in the list ['a', 'b', 'c', 'd']:"
   ]
  },
  {
   "cell_type": "code",
   "execution_count": 26,
   "id": "2987b37d-5453-434c-ba42-ffb28c0df5bb",
   "metadata": {},
   "outputs": [
    {
     "name": "stdout",
     "output_type": "stream",
     "text": [
      "Second element: b\n"
     ]
    }
   ],
   "source": [
    "# Define the list\n",
    "letters = ['a', 'b', 'c', 'd']\n",
    "\n",
    "# Access the second element (index 1)\n",
    "second_element = letters[1]\n",
    "\n",
    "# Print the result\n",
    "print(\"Second element:\", second_element)\n"
   ]
  },
  {
   "cell_type": "markdown",
   "id": "7a276cce-a02f-4a2c-ba81-3644c3bb9d0b",
   "metadata": {},
   "source": [
    "**Q 10. Write a code to reverse the list [10, 20, 30, 40, 50].**"
   ]
  },
  {
   "cell_type": "markdown",
   "id": "cbc75e2f-f12b-4de7-ab57-030fd3a517d3",
   "metadata": {},
   "source": [
    "**Ans.** Python code to reverse the list [10, 20, 30, 40, 50]:"
   ]
  },
  {
   "cell_type": "code",
   "execution_count": 28,
   "id": "d2c1ca87-917d-4d86-ad81-a39a9d76e13d",
   "metadata": {},
   "outputs": [
    {
     "name": "stdout",
     "output_type": "stream",
     "text": [
      "Reversed list: [50, 40, 30, 20, 10]\n"
     ]
    }
   ],
   "source": [
    "# Define the list\n",
    "numbers = [10, 20, 30, 40, 50]\n",
    "\n",
    "# Reverse the list\n",
    "numbers.reverse()\n",
    "\n",
    "# Print the reversed list\n",
    "print(\"Reversed list:\", numbers)\n"
   ]
  },
  {
   "cell_type": "markdown",
   "id": "0002991f-97e9-49b5-9047-ee413599e873",
   "metadata": {},
   "source": [
    "> Alternatively, using slicing:"
   ]
  },
  {
   "cell_type": "code",
   "execution_count": 31,
   "id": "604f0fe5-0618-4a39-be7a-71ca9713d536",
   "metadata": {},
   "outputs": [
    {
     "name": "stdout",
     "output_type": "stream",
     "text": [
      "Reversed list: [50, 40, 30, 20, 10]\n"
     ]
    }
   ],
   "source": [
    "# Define the list\n",
    "numbers = [10, 20, 30, 40, 50]\n",
    "\n",
    "# Reverse the list using slicing\n",
    "reversed_list = numbers[::-1]\n",
    "\n",
    "# Print the reversed list\n",
    "print(\"Reversed list:\", reversed_list)\n"
   ]
  },
  {
   "cell_type": "markdown",
   "id": "d20d5721-4571-4a96-a5c6-2c84f37d4c2a",
   "metadata": {},
   "source": [
    "**Q 11. Write a code to create a tuple with the elements 100, 200, 300 and print it.** "
   ]
  },
  {
   "cell_type": "markdown",
   "id": "fd4a7fe3-d6ff-4508-9433-5976b6bdee21",
   "metadata": {},
   "source": [
    "**Ans.** Python code to create a tuple with the elements 100, 200, and 300, and print it:"
   ]
  },
  {
   "cell_type": "code",
   "execution_count": 32,
   "id": "cbd9f6d0-abbd-426d-b86c-f0a59320b205",
   "metadata": {},
   "outputs": [
    {
     "name": "stdout",
     "output_type": "stream",
     "text": [
      "Tuple: (100, 200, 300)\n"
     ]
    }
   ],
   "source": [
    "# Create the tuple\n",
    "my_tuple = (100, 200, 300)\n",
    "\n",
    "# Print the tuple\n",
    "print(\"Tuple:\", my_tuple)\n"
   ]
  },
  {
   "cell_type": "markdown",
   "id": "643b97e6-9370-4a22-b915-3b5fe95da3db",
   "metadata": {},
   "source": [
    "**Q 12. Write a code to access the second-to-last element of the tuple ('red', 'green', 'blue', 'yellow').**"
   ]
  },
  {
   "cell_type": "markdown",
   "id": "4612ab98-824d-4726-951c-dae580e1f6e4",
   "metadata": {},
   "source": [
    "**Ans.** Python code to access the second-to-last element of the tuple ('red', 'green', 'blue', 'yellow'):"
   ]
  },
  {
   "cell_type": "code",
   "execution_count": 33,
   "id": "079f4e61-ce5a-4c11-9821-b3c37d0ec1cb",
   "metadata": {},
   "outputs": [
    {
     "name": "stdout",
     "output_type": "stream",
     "text": [
      "Second-to-last element: blue\n"
     ]
    }
   ],
   "source": [
    "# Define the tuple\n",
    "colors = ('red', 'green', 'blue', 'yellow')\n",
    "\n",
    "# Access the second-to-last element using negative indexing\n",
    "second_last = colors[-2]\n",
    "\n",
    "# Print the result\n",
    "print(\"Second-to-last element:\", second_last)\n"
   ]
  },
  {
   "cell_type": "markdown",
   "id": "f2fe311a-976c-43dc-b371-2eacb38ae6e7",
   "metadata": {},
   "source": [
    "**Q 13. Write a code to find the minimum number in the tuple (10, 20, 5, 15).**"
   ]
  },
  {
   "cell_type": "markdown",
   "id": "a143b590-9ce6-4062-bb76-cef9485f8142",
   "metadata": {},
   "source": [
    "**Ans.** Python code to find the minimum number in the tuple (10, 20, 5, 15):"
   ]
  },
  {
   "cell_type": "code",
   "execution_count": 34,
   "id": "2311c42d-d4fb-4d62-bfa0-d56b0258b7df",
   "metadata": {},
   "outputs": [
    {
     "name": "stdout",
     "output_type": "stream",
     "text": [
      "Minimum number: 5\n"
     ]
    }
   ],
   "source": [
    "# Define the tuple\n",
    "numbers = (10, 20, 5, 15)\n",
    "\n",
    "# Find the minimum number\n",
    "minimum = min(numbers)\n",
    "\n",
    "# Print the result\n",
    "print(\"Minimum number:\", minimum)\n"
   ]
  },
  {
   "cell_type": "markdown",
   "id": "81c7f45a-f599-44af-b8d6-5ca05118bc6c",
   "metadata": {},
   "source": [
    "**Q 14. Write a code to find the index of the element \"cat\" in the tuple ('dog', 'cat', 'rabbit').**"
   ]
  },
  {
   "cell_type": "markdown",
   "id": "9816c81b-3a3d-4de3-a0ce-cd90121cac2f",
   "metadata": {},
   "source": [
    "**Ans.**  Python code to find the index of the element \"cat\" in the tuple ('dog', 'cat', 'rabbit'):"
   ]
  },
  {
   "cell_type": "code",
   "execution_count": 35,
   "id": "a5c1c90d-1afb-410e-8ece-10ab0d11d689",
   "metadata": {},
   "outputs": [
    {
     "name": "stdout",
     "output_type": "stream",
     "text": [
      "Index of 'cat': 1\n"
     ]
    }
   ],
   "source": [
    "# Define the tuple\n",
    "animals = ('dog', 'cat', 'rabbit')\n",
    "\n",
    "# Find the index of \"cat\"\n",
    "index = animals.index(\"cat\")\n",
    "\n",
    "# Print the result\n",
    "print(\"Index of 'cat':\", index)\n"
   ]
  },
  {
   "cell_type": "markdown",
   "id": "fb2532b1-72be-43bc-a436-c8d4be693b06",
   "metadata": {},
   "source": [
    "**Q 15. Write a code to create a tuple containing three different fruits and check if \"kiwi\" is in it.**"
   ]
  },
  {
   "cell_type": "markdown",
   "id": "f968a53b-d9a2-44da-a2e8-5b46f2f33d82",
   "metadata": {},
   "source": [
    "**Ans.** Python code to create a tuple with three fruits and check if \"kiwi\" is in it:"
   ]
  },
  {
   "cell_type": "code",
   "execution_count": 36,
   "id": "57342e68-690f-48de-b8f4-73ab5d2f65d5",
   "metadata": {},
   "outputs": [
    {
     "name": "stdout",
     "output_type": "stream",
     "text": [
      "Kiwi is not in the tuple.\n"
     ]
    }
   ],
   "source": [
    "# Create the tuple\n",
    "fruits = (\"apple\", \"banana\", \"orange\")\n",
    "\n",
    "# Check if \"kiwi\" is in the tuple\n",
    "if \"kiwi\" in fruits:\n",
    "    print(\"Kiwi is in the tuple.\")\n",
    "else:\n",
    "    print(\"Kiwi is not in the tuple.\")\n"
   ]
  },
  {
   "cell_type": "code",
   "execution_count": null,
   "id": "36bf28cc-7bf4-40f3-b1b7-2a0e9651ee02",
   "metadata": {},
   "outputs": [],
   "source": [
    "# Create the tuple\n",
    "fruits = (\"apple\", \"kiwi\", \"orange\")\n",
    "\n",
    "# Check if \"kiwi\" is in the tuple\n",
    "if \"kiwi\" in fruits:\n",
    "    print(\"Kiwi is in the tuple.\")\n",
    "else:\n",
    "    print(\"Kiwi is not in the tuple.\")\n"
   ]
  },
  {
   "cell_type": "markdown",
   "id": "dfd96548-562b-48f2-8e4c-60a3892bd6e8",
   "metadata": {},
   "source": [
    "**Q 16. Write a code to create a set with the elements 'a', 'b', 'c' and print it.**"
   ]
  },
  {
   "cell_type": "markdown",
   "id": "60a568b7-5c06-4750-aa4d-f08278661e99",
   "metadata": {},
   "source": [
    "**Ans.** Python code to create a set with the elements 'a', 'b', and 'c' and print it:"
   ]
  },
  {
   "cell_type": "code",
   "execution_count": 39,
   "id": "8779acc5-f218-4d83-ba99-c0ff14e08751",
   "metadata": {},
   "outputs": [
    {
     "name": "stdout",
     "output_type": "stream",
     "text": [
      "Set: {'c', 'b', 'a'}\n"
     ]
    }
   ],
   "source": [
    "# Create the set\n",
    "my_set = {'a', 'b', 'c'}\n",
    "\n",
    "# Print the set\n",
    "print(\"Set:\", my_set)\n"
   ]
  },
  {
   "cell_type": "markdown",
   "id": "9d1f6e4c-856c-4bc9-913d-f881d5b5783b",
   "metadata": {},
   "source": [
    "**Q 17.  Write a code to clear all elements from the set {1, 2, 3, 4, 5}.**"
   ]
  },
  {
   "cell_type": "markdown",
   "id": "edb60b83-2294-451d-8d28-3aafae65d923",
   "metadata": {},
   "source": [
    "**Ans.** Python code to clear all elements from the set {1, 2, 3, 4, 5} : "
   ]
  },
  {
   "cell_type": "code",
   "execution_count": 40,
   "id": "c4cf48db-5f1a-413e-ad0e-e389a2ddaaa1",
   "metadata": {},
   "outputs": [
    {
     "name": "stdout",
     "output_type": "stream",
     "text": [
      "Cleared set: set()\n"
     ]
    }
   ],
   "source": [
    "# Define the set\n",
    "my_set = {1, 2, 3, 4, 5}\n",
    "\n",
    "# Clear all elements from the set\n",
    "my_set.clear()\n",
    "\n",
    "# Print the cleared set\n",
    "print(\"Cleared set:\", my_set)\n"
   ]
  },
  {
   "cell_type": "markdown",
   "id": "dc8abde9-40e3-43fa-9e5d-8fd836891d53",
   "metadata": {},
   "source": [
    "**Q 18. Write a code to remove the element 4 from the set {1, 2, 3, 4}.**"
   ]
  },
  {
   "cell_type": "markdown",
   "id": "34b72ad6-3057-44d2-b50b-54ae67061452",
   "metadata": {},
   "source": [
    "**Ans.** Python code to remove the element 4 from the set {1, 2, 3, 4}:"
   ]
  },
  {
   "cell_type": "code",
   "execution_count": 41,
   "id": "2a4a17be-bc9f-44f4-a3f2-c86044b4eadc",
   "metadata": {},
   "outputs": [
    {
     "name": "stdout",
     "output_type": "stream",
     "text": [
      "Updated set: {1, 2, 3}\n"
     ]
    }
   ],
   "source": [
    "# Define the set\n",
    "my_set = {1, 2, 3, 4}\n",
    "\n",
    "# Remove the element 4\n",
    "my_set.remove(4)\n",
    "\n",
    "# Print the updated set\n",
    "print(\"Updated set:\", my_set)\n"
   ]
  },
  {
   "cell_type": "markdown",
   "id": "22511e54-b8e0-4b62-9efb-824ea56f1766",
   "metadata": {},
   "source": [
    "**Q 19. Write a code to find the union of two sets {1, 2, 3} and {3, 4, 5}.**"
   ]
  },
  {
   "cell_type": "markdown",
   "id": "ede37d44-ab02-4044-b03b-bd5b047933c4",
   "metadata": {},
   "source": [
    "**Ans.** Python code to find the union of two sets {1, 2, 3} and {3, 4, 5}:"
   ]
  },
  {
   "cell_type": "code",
   "execution_count": 42,
   "id": "0d1c3602-847d-4992-8b37-f4508295f1a5",
   "metadata": {},
   "outputs": [
    {
     "name": "stdout",
     "output_type": "stream",
     "text": [
      "Union of the sets: {1, 2, 3, 4, 5}\n"
     ]
    }
   ],
   "source": [
    "# Define the sets\n",
    "set1 = {1, 2, 3}\n",
    "set2 = {3, 4, 5}\n",
    "\n",
    "# Find the union of the two sets\n",
    "union_set = set1.union(set2)\n",
    "\n",
    "# Print the result\n",
    "print(\"Union of the sets:\", union_set)\n"
   ]
  },
  {
   "cell_type": "markdown",
   "id": "644f1c09-1d76-4bae-881b-90988ce92450",
   "metadata": {},
   "source": [
    "**Q 20. Write a code to find the intersection of two sets {1, 2, 3} and {2, 3, 4}.**"
   ]
  },
  {
   "cell_type": "markdown",
   "id": "519c8925-bab9-4ea6-a009-9588f313b083",
   "metadata": {},
   "source": [
    "**Ans.** Python code to find the intersection of two sets {1, 2, 3} and {2, 3, 4}:"
   ]
  },
  {
   "cell_type": "code",
   "execution_count": 43,
   "id": "9c39137c-0250-44e6-93ee-f7f2f5f6b01b",
   "metadata": {},
   "outputs": [
    {
     "name": "stdout",
     "output_type": "stream",
     "text": [
      "Intersection of the sets: {2, 3}\n"
     ]
    }
   ],
   "source": [
    "# Define the sets\n",
    "set1 = {1, 2, 3}\n",
    "set2 = {2, 3, 4}\n",
    "\n",
    "# Find the intersection of the two sets\n",
    "intersection_set = set1.intersection(set2)\n",
    "\n",
    "# Print the result\n",
    "print(\"Intersection of the sets:\", intersection_set)\n"
   ]
  },
  {
   "cell_type": "markdown",
   "id": "66b0fdb9-5c15-4d67-af9e-411981af81b6",
   "metadata": {},
   "source": [
    "**Q 21. Write a code to create a dictionary with the keys \"name\", \"age\", and \"city\", and print it.**"
   ]
  },
  {
   "cell_type": "markdown",
   "id": "a6eef1dd-00e5-4d14-a09e-a5846211d71c",
   "metadata": {},
   "source": [
    "**Ans.** Python code to create a dictionary with the keys \"name\", \"age\", and \"city\", and print it:"
   ]
  },
  {
   "cell_type": "code",
   "execution_count": 46,
   "id": "c8fd015e-11db-49eb-9617-05b1b04bcb0a",
   "metadata": {},
   "outputs": [
    {
     "name": "stdout",
     "output_type": "stream",
     "text": [
      "Dictionary: {'name': 'Umer Nazir', 'age': 27, 'city': 'Srinagar'}\n"
     ]
    }
   ],
   "source": [
    "# Create the dictionary\n",
    "my_dict = {\"name\": \"Umer Nazir\", \"age\": 27, \"city\": \"Srinagar\"}\n",
    "\n",
    "# Print the dictionary\n",
    "print(\"Dictionary:\", my_dict)\n"
   ]
  },
  {
   "cell_type": "markdown",
   "id": "c43eb2db-6ae1-4896-9fd8-e72d5a3c59cd",
   "metadata": {},
   "source": [
    "**Q 22. Write a code to add a new key-value pair \"country\": \"USA\" to the dictionary {'name': 'John', 'age': 25}.**"
   ]
  },
  {
   "cell_type": "markdown",
   "id": "9ef123e2-2b85-4814-8c46-a9942f008da9",
   "metadata": {},
   "source": [
    "**Ans.** Python code to add a new key-value pair \"country\": \"USA\" to the dictionary {'name': 'John', 'age': 25}:"
   ]
  },
  {
   "cell_type": "code",
   "execution_count": 47,
   "id": "c9dc8b10-6859-405a-aade-79d52305d134",
   "metadata": {},
   "outputs": [
    {
     "name": "stdout",
     "output_type": "stream",
     "text": [
      "Updated dictionary: {'name': 'John', 'age': 25, 'country': 'USA'}\n"
     ]
    }
   ],
   "source": [
    "# Define the dictionary\n",
    "my_dict = {'name': 'John', 'age': 25}\n",
    "\n",
    "# Add a new key-value pair\n",
    "my_dict[\"country\"] = \"USA\"\n",
    "\n",
    "# Print the updated dictionary\n",
    "print(\"Updated dictionary:\", my_dict)\n"
   ]
  },
  {
   "cell_type": "markdown",
   "id": "d417c3af-63c4-4d59-8c59-4dac7719c33e",
   "metadata": {},
   "source": [
    "**Q 23. Write a code to access the value associated with the key \"name\" in the dictionary {'name': 'Alice', 'age': 30}.**"
   ]
  },
  {
   "cell_type": "markdown",
   "id": "927c5434-d202-401f-8087-e2e1fe779a02",
   "metadata": {},
   "source": [
    "**Ans.** Python code to access the value associated with the key \"name\" in the dictionary {'name': 'Alice', 'age': 30}:"
   ]
  },
  {
   "cell_type": "code",
   "execution_count": 48,
   "id": "1f841be5-c886-4414-833b-141767bb1c99",
   "metadata": {},
   "outputs": [
    {
     "name": "stdout",
     "output_type": "stream",
     "text": [
      "Value associated with 'name': Alice\n"
     ]
    }
   ],
   "source": [
    "# Define the dictionary\n",
    "my_dict = {'name': 'Alice', 'age': 30}\n",
    "\n",
    "# Access the value associated with the key \"name\"\n",
    "name_value = my_dict[\"name\"]\n",
    "\n",
    "# Print the result\n",
    "print(\"Value associated with 'name':\", name_value)\n"
   ]
  },
  {
   "cell_type": "markdown",
   "id": "5047996d-a622-411b-a51b-153d27c30832",
   "metadata": {},
   "source": [
    "**Q 24. Write a code to remove the key \"age\" from the dictionary {'name': 'Bob', 'age': 22, 'city': 'New York'}.**"
   ]
  },
  {
   "cell_type": "markdown",
   "id": "73afad9f-aa9a-4c55-be22-b353736da00c",
   "metadata": {},
   "source": [
    "**Ans.** Python code to remove the key \"age\" from the dictionary {'name': 'Bob', 'age': 22, 'city': 'New York'}:"
   ]
  },
  {
   "cell_type": "code",
   "execution_count": 49,
   "id": "14b7e9ec-dc7f-4ddf-955e-d40ac412e3ad",
   "metadata": {},
   "outputs": [
    {
     "name": "stdout",
     "output_type": "stream",
     "text": [
      "Updated dictionary: {'name': 'Bob', 'city': 'New York'}\n"
     ]
    }
   ],
   "source": [
    "# Define the dictionary\n",
    "my_dict = {'name': 'Bob', 'age': 22, 'city': 'New York'}\n",
    "\n",
    "# Remove the key \"age\"\n",
    "del my_dict[\"age\"]\n",
    "\n",
    "# Print the updated dictionary\n",
    "print(\"Updated dictionary:\", my_dict)\n"
   ]
  },
  {
   "cell_type": "markdown",
   "id": "2ae27b69-7b97-4421-8789-0f5ae0262fb0",
   "metadata": {},
   "source": [
    "**Q 25. Write a code to check if the key \"city\" exists in the dictionary {'name': 'Alice', 'city': 'Paris'}.**"
   ]
  },
  {
   "cell_type": "markdown",
   "id": "2438de4a-df70-436f-b549-23a154eff056",
   "metadata": {},
   "source": [
    "**Ans.**   Python code to check if the key \"city\" exists in the dictionary {'name': 'Alice', 'city': 'Paris'}."
   ]
  },
  {
   "cell_type": "code",
   "execution_count": 50,
   "id": "96bc119e-ef3a-45d7-aa22-daf0f84cbc02",
   "metadata": {},
   "outputs": [
    {
     "name": "stdout",
     "output_type": "stream",
     "text": [
      "The key 'city' exists in the dictionary.\n"
     ]
    }
   ],
   "source": [
    "# Define the dictionary\n",
    "my_dict = {'name': 'Alice', 'city': 'Paris'}\n",
    "\n",
    "# Check if the key \"city\" exists\n",
    "if \"city\" in my_dict:\n",
    "    print(\"The key 'city' exists in the dictionary.\")\n",
    "else:\n",
    "    print(\"The key 'city' does not exist in the dictionary.\")\n"
   ]
  },
  {
   "cell_type": "markdown",
   "id": "96f6738f-9794-41e4-aa70-1978c3d57ff8",
   "metadata": {},
   "source": [
    "**Q 26. Write a code to create a list, a tuple, and a dictionary, and print them all.**"
   ]
  },
  {
   "cell_type": "markdown",
   "id": "b13c7fdc-8b16-4d2b-9c39-23e30338b48e",
   "metadata": {},
   "source": [
    "**Ans.** Python code to create a list, a tuple, and a dictionary, and print them all"
   ]
  },
  {
   "cell_type": "code",
   "execution_count": 52,
   "id": "06a9ba05-9d85-409a-ab1e-e1b710dba84d",
   "metadata": {},
   "outputs": [
    {
     "name": "stdout",
     "output_type": "stream",
     "text": [
      "List: [1, 2, 3, 4, 5]\n",
      "Tuple: (10, 20, 30, 40)\n",
      "Dictionary: {'name': 'Umer Nazir', 'age': 30}\n"
     ]
    }
   ],
   "source": [
    "# Create a list\n",
    "my_list = [1, 2, 3, 4, 5]\n",
    "\n",
    "# Create a tuple\n",
    "my_tuple = (10, 20, 30, 40)\n",
    "\n",
    "# Create a dictionary\n",
    "my_dict = {\"name\": \"Umer Nazir\", \"age\": 30}\n",
    "\n",
    "# Print the list, tuple, and dictionary\n",
    "print(\"List:\", my_list)\n",
    "print(\"Tuple:\", my_tuple)\n",
    "print(\"Dictionary:\", my_dict)\n"
   ]
  },
  {
   "cell_type": "markdown",
   "id": "f80b9051-e6db-4612-853f-74a04aec9a3b",
   "metadata": {},
   "source": [
    "**Q 27. Write a code to create a list of 5 random numbers between 1 and 100, sort it in ascending order, and print the result.(replaced).**"
   ]
  },
  {
   "cell_type": "markdown",
   "id": "cb26f33f-9359-4e1e-a3ed-798d200d14c2",
   "metadata": {},
   "source": [
    "**Ans.** Python code to create a list of 5 random numbers between 1 and 100, sort it in ascending order, and print the result: "
   ]
  },
  {
   "cell_type": "code",
   "execution_count": 57,
   "id": "31c6d564-0cb5-4c74-aa48-7d0783875d9e",
   "metadata": {},
   "outputs": [
    {
     "name": "stdout",
     "output_type": "stream",
     "text": [
      "Sorted random numbers: [1, 21, 33, 60, 76]\n"
     ]
    }
   ],
   "source": [
    "import random\n",
    "\n",
    "# Create a list of 5 random numbers between 1 and 100\n",
    "random_numbers = [random.randint(1, 100) for _ in range(5)]\n",
    "\n",
    "# Sort the list in ascending order\n",
    "random_numbers.sort()\n",
    "\n",
    "# Print the sorted list\n",
    "print(\"Sorted random numbers:\", random_numbers)\n",
    "\n",
    "#Output (will vary each time)\n"
   ]
  },
  {
   "cell_type": "markdown",
   "id": "ba3f027d-82fb-4ada-8e41-ce224a0782e2",
   "metadata": {},
   "source": [
    "**Q 28. Write a code to create a list with strings and print the element at the third index.**"
   ]
  },
  {
   "cell_type": "markdown",
   "id": "16fa628e-7c86-466c-8cc2-43a098cb3444",
   "metadata": {},
   "source": [
    "**Ans.** Python code to create a list with strings and print the element at the third index:"
   ]
  },
  {
   "cell_type": "code",
   "execution_count": 58,
   "id": "65a78036-62cb-4fbd-91f7-af876022337f",
   "metadata": {},
   "outputs": [
    {
     "name": "stdout",
     "output_type": "stream",
     "text": [
      "Element at third index: date\n"
     ]
    }
   ],
   "source": [
    "# Create a list with strings\n",
    "words = [\"apple\", \"banana\", \"cherry\", \"date\", \"elderberry\"]\n",
    "\n",
    "# Print the element at the third index (indexing starts from 0)\n",
    "print(\"Element at third index:\", words[3])\n"
   ]
  },
  {
   "cell_type": "markdown",
   "id": "0faeb419-191c-418f-8d83-2d93ccf6d834",
   "metadata": {},
   "source": [
    "**Q 29. Write a code to combine two dictionaries into one and print the result.**"
   ]
  },
  {
   "cell_type": "markdown",
   "id": "326b0e0c-6b56-419c-87df-3cd3addb3fc8",
   "metadata": {},
   "source": [
    "**Ans.**  Python code to combine two dictionaries into one and print the result:"
   ]
  },
  {
   "cell_type": "code",
   "execution_count": 59,
   "id": "c764cef4-3c43-4d5a-905e-bb20fcfe9c73",
   "metadata": {},
   "outputs": [
    {
     "name": "stdout",
     "output_type": "stream",
     "text": [
      "Combined dictionary: {'name': 'Alice', 'age': 25, 'city': 'Paris', 'country': 'France'}\n"
     ]
    }
   ],
   "source": [
    "#Example 1\n",
    "# Define two dictionaries\n",
    "dict1 = {\"name\": \"Alice\", \"age\": 25}\n",
    "dict2 = {\"city\": \"Paris\", \"country\": \"France\"}\n",
    "\n",
    "# Combine the dictionaries\n",
    "combined_dict = {**dict1, **dict2}\n",
    "\n",
    "# Print the combined dictionary\n",
    "print(\"Combined dictionary:\", combined_dict)\n"
   ]
  },
  {
   "cell_type": "code",
   "execution_count": 61,
   "id": "11c9757f-351f-4386-8a38-56933aadf169",
   "metadata": {},
   "outputs": [
    {
     "name": "stdout",
     "output_type": "stream",
     "text": [
      "Updated dictionary: {'name': 'Alice', 'age': 25, 'city': 'Paris', 'country': 'France'}\n"
     ]
    }
   ],
   "source": [
    "# Example 2 \n",
    "# Define two dictionaries\n",
    "dict1 = {\"name\": \"Alice\", \"age\": 25}\n",
    "dict2 = {\"city\": \"Paris\", \"country\": \"France\"}\n",
    "\n",
    "# Update dict1 with the contents of dict2\n",
    "dict1.update(dict2)\n",
    "\n",
    "# Print the updated dict1\n",
    "print(\"Updated dictionary:\", dict1)\n"
   ]
  },
  {
   "cell_type": "markdown",
   "id": "1ae5d65f-ca8e-4a38-acf9-6ae410323584",
   "metadata": {},
   "source": [
    "**Q 30. Write a code to convert a list of strings into a set.**"
   ]
  },
  {
   "cell_type": "markdown",
   "id": "e4322757-5314-4ac2-9303-563b9b835b8c",
   "metadata": {},
   "source": [
    "**Ans.** Python code to convert a list of strings into a set:"
   ]
  },
  {
   "cell_type": "code",
   "execution_count": 64,
   "id": "4d72704b-6a55-475b-81ba-5d518d49b7dc",
   "metadata": {},
   "outputs": [
    {
     "name": "stdout",
     "output_type": "stream",
     "text": [
      "Set: {'cherry', 'banana', 'apple'}\n"
     ]
    }
   ],
   "source": [
    "# Define a list of strings\n",
    "string_list = [\"apple\", \"banana\", \"apple\", \"cherry\"]\n",
    "\n",
    "# Convert the list to a set\n",
    "string_set = set(string_list)\n",
    "\n",
    "# Print the set\n",
    "print(\"Set:\", string_set)\n"
   ]
  }
 ],
 "metadata": {
  "kernelspec": {
   "display_name": "Python 3 (ipykernel)",
   "language": "python",
   "name": "python3"
  },
  "language_info": {
   "codemirror_mode": {
    "name": "ipython",
    "version": 3
   },
   "file_extension": ".py",
   "mimetype": "text/x-python",
   "name": "python",
   "nbconvert_exporter": "python",
   "pygments_lexer": "ipython3",
   "version": "3.13.3"
  }
 },
 "nbformat": 4,
 "nbformat_minor": 5
}

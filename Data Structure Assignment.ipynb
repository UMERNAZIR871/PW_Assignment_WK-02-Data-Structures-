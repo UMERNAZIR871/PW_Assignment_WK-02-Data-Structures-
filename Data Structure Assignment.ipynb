{
 "cells": [
  {
   "cell_type": "markdown",
   "id": "03ccf44f-f661-4d0b-b028-97a6a13cc5e5",
   "metadata": {},
   "source": [
    "#    Data Types and Structures Questions"
   ]
  },
  {
   "cell_type": "markdown",
   "id": "2639437c-8245-4b83-b389-8ab6a10f9a24",
   "metadata": {},
   "source": [
    "**Q1. What are data structures in python, and why are they important?**"
   ]
  },
  {
   "cell_type": "markdown",
   "id": "443bcd77-a748-409d-b0e4-66a97e37b7f5",
   "metadata": {},
   "source": [
    "**Ans.** In Python, data structures are built-in types and user-defined structures used to organize and store data efficiently. Python provides a rich set of built-in data structures, and also allows you to create your own using classes.\n",
    "\n",
    "Built-in Data Structures in Python:\n",
    "- List:\n",
    "    - Ordered, mutable (changeable), allows duplicates.\n",
    "    - Example: fruits = ['apple', 'banana', 'cherry']\n",
    "\n",
    "- Tuple:\n",
    "    - Ordered, immutable, allows duplicates.\n",
    "    - Example: coordinates = (10, 20)\n",
    "\n",
    " \n",
    "- Set:\n",
    "    - Unordered, no duplicates, mutable.\n",
    "    - Example: unique_numbers = {1, 2, 3}\n",
    "\n",
    "- Dictionary:\n",
    "    - Key-value pairs, unordered (in versions <3.7), mutable.\n",
    "    - Example: person = {'name': 'Alice', 'age': 30}\n",
    "\n",
    "\n",
    " Why Data Structures Are Important in Python:\n",
    "\n",
    "- Efficient Data Management:   They help organize and process large amounts of data quickly (e.g., using dictionaries for fast lookups).\n",
    "\n",
    "- Problem Solving:   The right structure simplifies coding solutions to complex problems (e.g., using stacks for undo functionality).\n",
    "\n",
    "- Built-in Support:   Python’s syntax and standard library make using and manipulating data structures very intuitive and powerful.\n",
    "\n",
    "- Foundation for Algorithms:   Understanding data structures is key to implementing and optimizing algorithms in Python."
   ]
  },
  {
   "cell_type": "markdown",
   "id": "8f66cf8d-3fe8-4ce8-8c46-d8fc13e22218",
   "metadata": {},
   "source": [
    "**Q2. Explain the difference between mutable and immutable data types with examples**"
   ]
  },
  {
   "cell_type": "markdown",
   "id": "23574af4-cd49-4d62-ba80-f4a2f096ac8f",
   "metadata": {},
   "source": [
    "**Ans.** In Python, data types are classified as either mutable or immutable depending on whether their internal values can be changed after the object is created.\n",
    "\n",
    "- Mutable Data Types:\n",
    "    - Definition: A mutable object allows modification of its contents without changing its identity (memory address).\n",
    "    - Key Point: Changes occur in place, and the original object is updated.\n",
    "    - Common Mutable Types: list, dict, set, bytearray\n",
    "    - Examples of Mutable Types:"
   ]
  },
  {
   "cell_type": "markdown",
   "id": "fd0fe68c-d925-419e-ab1d-d9b0cfbd6277",
   "metadata": {},
   "source": [
    "- List "
   ]
  },
  {
   "cell_type": "code",
   "execution_count": 1,
   "id": "97be9b58-f536-4c15-be90-3dd290bc1585",
   "metadata": {},
   "outputs": [
    {
     "name": "stdout",
     "output_type": "stream",
     "text": [
      "['apple', 'banana', 'orange']\n"
     ]
    }
   ],
   "source": [
    "# List Example\n",
    "fruits = ['apple', 'banana']\n",
    "fruits.append('orange')  # Adds to the list\n",
    "print(fruits)  # Output: ['apple', 'banana', 'orange']"
   ]
  },
  {
   "cell_type": "markdown",
   "id": "edb6acf4-b9d8-42eb-8b90-8a73dcb4ecdb",
   "metadata": {},
   "source": [
    "- Dictionary"
   ]
  },
  {
   "cell_type": "code",
   "execution_count": 2,
   "id": "a8d2281f-f74d-4ff5-bb71-391ef3a325de",
   "metadata": {},
   "outputs": [
    {
     "name": "stdout",
     "output_type": "stream",
     "text": [
      "{'name': 'Alice', 'age': 26}\n"
     ]
    }
   ],
   "source": [
    "# Dictionary Example\n",
    "person = {'name': 'Alice', 'age': 25}\n",
    "person['age'] = 26  # Modifies the existing key\n",
    "print(person)  # Output: {'name': 'Alice', 'age': 26}"
   ]
  },
  {
   "cell_type": "markdown",
   "id": "132a135b-af10-48a1-8809-523f039cf67c",
   "metadata": {},
   "source": [
    "- Set "
   ]
  },
  {
   "cell_type": "code",
   "execution_count": 3,
   "id": "d0a176af-7759-4899-b95d-013531c1b4df",
   "metadata": {},
   "outputs": [
    {
     "name": "stdout",
     "output_type": "stream",
     "text": [
      "{'green', 'blue', 'red'}\n"
     ]
    }
   ],
   "source": [
    "# Set Example\n",
    "colors = {'red', 'green'}\n",
    "colors.add('blue')  # Adds a new element\n",
    "print(colors)  # Output: {'red', 'green', 'blue'}"
   ]
  },
  {
   "cell_type": "markdown",
   "id": "e0d21270-db33-4385-ae9b-5ce05624eb56",
   "metadata": {},
   "source": [
    "- Bytearray"
   ]
  },
  {
   "cell_type": "code",
   "execution_count": 4,
   "id": "1b57a518-30b7-4b9c-b6c8-0b3fb844dfec",
   "metadata": {},
   "outputs": [
    {
     "name": "stdout",
     "output_type": "stream",
     "text": [
      "bytearray(b'Hello')\n"
     ]
    }
   ],
   "source": [
    "# Bytearray Example\n",
    "b = bytearray(b'hello')\n",
    "b[0] = 72  # Changes first byte (ASCII for 'H')\n",
    "print(b)  # Output: bytearray(b'Hello')"
   ]
  },
  {
   "cell_type": "markdown",
   "id": "9a46ac0f-fe87-4a4a-93aa-61f36c111dc4",
   "metadata": {},
   "source": [
    "- Immutable Data Types:\n",
    "    - Definition: An immutable object cannot be modified after creation. Any operation that alters its content results in a new object being created.\n",
    "    - Key Point: The original object remains unchanged.\n",
    "    - Common Immutable Types: int, float, bool, str, tuple, frozenset, bytes.\n",
    "    - Examples of Immutable Types:"
   ]
  },
  {
   "cell_type": "markdown",
   "id": "ae7f4fb2-b4ee-4a5d-8e1e-0fed7a19c549",
   "metadata": {},
   "source": [
    "- Integer"
   ]
  },
  {
   "cell_type": "code",
   "execution_count": 5,
   "id": "205505a6-e7e0-4538-b119-ce192f1399e2",
   "metadata": {},
   "outputs": [
    {
     "name": "stdout",
     "output_type": "stream",
     "text": [
      "11\n"
     ]
    }
   ],
   "source": [
    "# Integer Example\n",
    "x = 10\n",
    "x = x + 1  # Creates a new integer object\n",
    "print(x)  # Output: 11"
   ]
  },
  {
   "cell_type": "markdown",
   "id": "8999fa02-f8a3-4e8a-b9c5-4ae1b3a83bf8",
   "metadata": {},
   "source": [
    "- Float"
   ]
  },
  {
   "cell_type": "code",
   "execution_count": 6,
   "id": "9df5d613-7292-4b1e-8143-2fbdf59bd981",
   "metadata": {},
   "outputs": [
    {
     "name": "stdout",
     "output_type": "stream",
     "text": [
      "6.28\n"
     ]
    }
   ],
   "source": [
    "# Float Example\n",
    "pi = 3.14\n",
    "pi = pi * 2  # New object created\n",
    "print(pi)  # Output: 6.28"
   ]
  },
  {
   "cell_type": "markdown",
   "id": "f1bb7d4d-def3-41d3-ad39-e0cb8ec6075e",
   "metadata": {},
   "source": [
    "- Boolean"
   ]
  },
  {
   "cell_type": "code",
   "execution_count": 7,
   "id": "82be84e5-598d-4393-b21e-e963f009a2cb",
   "metadata": {},
   "outputs": [
    {
     "name": "stdout",
     "output_type": "stream",
     "text": [
      "False\n"
     ]
    }
   ],
   "source": [
    "# Boolean Example\n",
    "flag = True\n",
    "flag = not flag  # New boolean object\n",
    "print(flag)  # Output: False"
   ]
  },
  {
   "cell_type": "markdown",
   "id": "bfbb4f9d-3542-4cc2-ab03-da72e55086df",
   "metadata": {},
   "source": [
    "- String"
   ]
  },
  {
   "cell_type": "code",
   "execution_count": 8,
   "id": "02368632-a8f5-41b2-a69d-8e051aa00dc2",
   "metadata": {},
   "outputs": [
    {
     "name": "stdout",
     "output_type": "stream",
     "text": [
      "Hello World\n"
     ]
    }
   ],
   "source": [
    "# String Example \n",
    "\n",
    "greeting = \"Hello\"\n",
    "greeting += \" World\"  # New string created\n",
    "print(greeting)  # Output: \"Hello World\""
   ]
  },
  {
   "cell_type": "markdown",
   "id": "9c646625-d640-465d-9993-ea1385ef948b",
   "metadata": {},
   "source": [
    "- Tuple"
   ]
  },
  {
   "cell_type": "code",
   "execution_count": 14,
   "id": "44df0b05-5903-4652-8552-5222e4734b64",
   "metadata": {},
   "outputs": [
    {
     "ename": "TypeError",
     "evalue": "'tuple' object does not support item assignment",
     "output_type": "error",
     "traceback": [
      "\u001b[1;31m---------------------------------------------------------------------------\u001b[0m",
      "\u001b[1;31mTypeError\u001b[0m                                 Traceback (most recent call last)",
      "Cell \u001b[1;32mIn[14], line 3\u001b[0m\n\u001b[0;32m      1\u001b[0m \u001b[38;5;66;03m# Tuple Example with error\u001b[39;00m\n\u001b[0;32m      2\u001b[0m coordinates \u001b[38;5;241m=\u001b[39m (\u001b[38;5;241m10\u001b[39m, \u001b[38;5;241m20\u001b[39m)\n\u001b[1;32m----> 3\u001b[0m \u001b[43mcoordinates\u001b[49m\u001b[43m[\u001b[49m\u001b[38;5;241;43m0\u001b[39;49m\u001b[43m]\u001b[49m \u001b[38;5;241m=\u001b[39m \u001b[38;5;241m15\u001b[39m  \u001b[38;5;66;03m# Error: Tuples are immutable\u001b[39;00m\n\u001b[0;32m      4\u001b[0m \u001b[38;5;28mprint\u001b[39m(coordinates)\n",
      "\u001b[1;31mTypeError\u001b[0m: 'tuple' object does not support item assignment"
     ]
    }
   ],
   "source": [
    "# Tuple Example with error\n",
    "coordinates = (10, 20)\n",
    "coordinates[0] = 15  # Error: Tuples are immutable\n",
    "print(coordinates)"
   ]
  },
  {
   "cell_type": "code",
   "execution_count": 15,
   "id": "1372fa76-6787-4dc5-915a-92eb05403409",
   "metadata": {},
   "outputs": [
    {
     "name": "stdout",
     "output_type": "stream",
     "text": [
      "(10, 20)\n"
     ]
    }
   ],
   "source": [
    "# Tuple Example \n",
    "coordinates = (10, 20)\n",
    "# coordinates[0] = 15  # ❌ Error: Tuples are immutable\n",
    "print(coordinates)  # Output: (10, 20)"
   ]
  },
  {
   "cell_type": "markdown",
   "id": "797a84ea-05ba-425e-8804-7e355576cd37",
   "metadata": {},
   "source": [
    "- Frozenset"
   ]
  },
  {
   "cell_type": "code",
   "execution_count": 21,
   "id": "fba549da-2aeb-4cee-ada9-082c7061558d",
   "metadata": {},
   "outputs": [
    {
     "name": "stdout",
     "output_type": "stream",
     "text": [
      "frozenset({1, 2, 3})\n"
     ]
    }
   ],
   "source": [
    "# Frozenset Example\n",
    "fs = frozenset([1, 2, 3])\n",
    "# fs.add(4)  # ❌ Error: frozensets are immutable\n",
    "print(fs)  # Output: frozenset({1, 2, 3})"
   ]
  },
  {
   "cell_type": "markdown",
   "id": "2ec38d26-aaa4-49ba-85a8-104f20a5cc57",
   "metadata": {},
   "source": [
    "- Bytes"
   ]
  },
  {
   "cell_type": "code",
   "execution_count": 22,
   "id": "6cf4acf2-ce9a-488b-a600-16cd9d362b18",
   "metadata": {},
   "outputs": [
    {
     "name": "stdout",
     "output_type": "stream",
     "text": [
      "b'hello'\n"
     ]
    }
   ],
   "source": [
    "# Bytes Example\n",
    "data = b'hello'\n",
    "# data[0] = 72  # ❌ Error: bytes are immutable\n",
    "print(data)  # Output: b'hello'"
   ]
  },
  {
   "cell_type": "markdown",
   "id": "405661d5-bdee-46b1-8b66-ebb943f9a1c6",
   "metadata": {},
   "source": [
    "`Comparison Table`:\n",
    "\n",
    "| Feature                 | Mutable                            | Immutable                                   |\n",
    "| ----------------------- | ---------------------------------- | ------------------------------------------- |\n",
    "| Can be modified?        | ✅ Yes                              | ❌ No                                        |\n",
    "| Memory address changes? | ❌ No (same object)                 | ✅ Yes (new object created)                  |\n",
    "| Suitable for changes?   | Yes (dynamic content)              | No (fixed content)                          |\n",
    "| Common examples         | `list`, `dict`, `set`, `bytearray` | `int`, `str`, `tuple`, `frozenset`, `bytes` |\n",
    "\n",
    "\n",
    "`Ponits to remeber` :\n",
    "- Understanding the difference between mutable and immutable types is crucial for:\n",
    "- Writing efficient and bug-free code\n",
    "- Avoiding unintended side effects when passing objects to functions\n",
    "- Managing memory and performance effectively in large applications"
   ]
  },
  {
   "cell_type": "code",
   "execution_count": null,
   "id": "f2db4d6b-5d48-4881-94ca-5b1cc4a89efd",
   "metadata": {},
   "outputs": [],
   "source": []
  },
  {
   "cell_type": "code",
   "execution_count": null,
   "id": "98f92d39-e668-4682-b276-6707ba551e42",
   "metadata": {},
   "outputs": [],
   "source": []
  },
  {
   "cell_type": "code",
   "execution_count": null,
   "id": "70a7cdfe-3d73-4608-a04a-6cf5735dd931",
   "metadata": {},
   "outputs": [],
   "source": []
  },
  {
   "cell_type": "code",
   "execution_count": null,
   "id": "b43dfb2b-5113-4837-a71d-714fa045eb90",
   "metadata": {},
   "outputs": [],
   "source": []
  },
  {
   "cell_type": "code",
   "execution_count": null,
   "id": "4ac62afe-d133-4e82-ab3d-33e9ff3565a8",
   "metadata": {},
   "outputs": [],
   "source": []
  },
  {
   "cell_type": "code",
   "execution_count": null,
   "id": "167ba377-7d81-499c-ad28-3ca105a13ef8",
   "metadata": {},
   "outputs": [],
   "source": []
  },
  {
   "cell_type": "code",
   "execution_count": null,
   "id": "eaa54a7d-b31d-424c-bf66-a8bffb51f337",
   "metadata": {},
   "outputs": [],
   "source": []
  }
 ],
 "metadata": {
  "kernelspec": {
   "display_name": "Python 3 (ipykernel)",
   "language": "python",
   "name": "python3"
  },
  "language_info": {
   "codemirror_mode": {
    "name": "ipython",
    "version": 3
   },
   "file_extension": ".py",
   "mimetype": "text/x-python",
   "name": "python",
   "nbconvert_exporter": "python",
   "pygments_lexer": "ipython3",
   "version": "3.13.3"
  }
 },
 "nbformat": 4,
 "nbformat_minor": 5
}

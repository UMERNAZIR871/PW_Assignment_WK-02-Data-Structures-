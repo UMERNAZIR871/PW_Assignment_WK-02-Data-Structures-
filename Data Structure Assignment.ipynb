{
 "cells": [
  {
   "cell_type": "markdown",
   "id": "03ccf44f-f661-4d0b-b028-97a6a13cc5e5",
   "metadata": {},
   "source": [
    "#    Data Types and Structures Questions"
   ]
  },
  {
   "cell_type": "markdown",
   "id": "2639437c-8245-4b83-b389-8ab6a10f9a24",
   "metadata": {},
   "source": [
    "**Q1. What are data structures in python, and why are they important?**"
   ]
  },
  {
   "cell_type": "markdown",
   "id": "443bcd77-a748-409d-b0e4-66a97e37b7f5",
   "metadata": {},
   "source": [
    "**Ans.** \n",
    "\n",
    "In Python, data structures are built-in types and user-defined structures used to organize and store data efficiently. Python provides a rich set of built-in data structures, and also allows you to create your own using classes.\n",
    "\n",
    "Built-in Data Structures in Python:\n",
    "- List:\n",
    "    - Ordered, mutable (changeable), allows duplicates.\n",
    "    - Example: fruits = ['apple', 'banana', 'cherry']\n",
    "\n",
    "- Tuple:\n",
    "    - Ordered, immutable, allows duplicates.\n",
    "    - Example: coordinates = (10, 20)\n",
    "\n",
    " \n",
    "- Set:\n",
    "    - Unordered, no duplicates, mutable.\n",
    "    - Example: unique_numbers = {1, 2, 3}\n",
    "\n",
    "- Dictionary:\n",
    "    - Key-value pairs, unordered (in versions <3.7), mutable.\n",
    "    - Example: person = {'name': 'Alice', 'age': 30}\n",
    "\n",
    "\n",
    " Why Data Structures Are Important in Python:\n",
    "\n",
    "- Efficient Data Management:   They help organize and process large amounts of data quickly (e.g., using dictionaries for fast lookups).\n",
    "\n",
    "- Problem Solving:   The right structure simplifies coding solutions to complex problems (e.g., using stacks for undo functionality).\n",
    "\n",
    "- Built-in Support:   Python’s syntax and standard library make using and manipulating data structures very intuitive and powerful.\n",
    "\n",
    "- Foundation for Algorithms:   Understanding data structures is key to implementing and optimizing algorithms in Python."
   ]
  }
 ],
 "metadata": {
  "kernelspec": {
   "display_name": "Python 3 (ipykernel)",
   "language": "python",
   "name": "python3"
  },
  "language_info": {
   "codemirror_mode": {
    "name": "ipython",
    "version": 3
   },
   "file_extension": ".py",
   "mimetype": "text/x-python",
   "name": "python",
   "nbconvert_exporter": "python",
   "pygments_lexer": "ipython3",
   "version": "3.13.3"
  }
 },
 "nbformat": 4,
 "nbformat_minor": 5
}

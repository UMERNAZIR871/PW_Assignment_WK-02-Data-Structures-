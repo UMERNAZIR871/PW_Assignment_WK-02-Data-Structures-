{
 "cells": [
  {
   "cell_type": "markdown",
   "id": "03ccf44f-f661-4d0b-b028-97a6a13cc5e5",
   "metadata": {},
   "source": [
    "#    Data Types and Structures Questions"
   ]
  },
  {
   "cell_type": "markdown",
   "id": "2639437c-8245-4b83-b389-8ab6a10f9a24",
   "metadata": {},
   "source": [
    "**Q1. What are data structures in python, and why are they important?**"
   ]
  },
  {
   "cell_type": "markdown",
   "id": "443bcd77-a748-409d-b0e4-66a97e37b7f5",
   "metadata": {},
   "source": [
    "**Ans.** In Python, data structures are built-in types and user-defined structures used to organize and store data efficiently. Python provides a rich set of built-in data structures, and also allows you to create your own using classes.\n",
    "\n",
    "Built-in Data Structures in Python:\n",
    "- List:\n",
    "    - Ordered, mutable (changeable), allows duplicates.\n",
    "    - Example: fruits = ['apple', 'banana', 'cherry']\n",
    "\n",
    "- Tuple:\n",
    "    - Ordered, immutable, allows duplicates.\n",
    "    - Example: coordinates = (10, 20)\n",
    "\n",
    " \n",
    "- Set:\n",
    "    - Unordered, no duplicates, mutable.\n",
    "    - Example: unique_numbers = {1, 2, 3}\n",
    "\n",
    "- Dictionary:\n",
    "    - Key-value pairs, unordered (in versions <3.7), mutable.\n",
    "    - Example: person = {'name': 'Alice', 'age': 30}\n",
    "\n",
    "\n",
    " Why Data Structures Are Important in Python:\n",
    "\n",
    "- Efficient Data Management:   They help organize and process large amounts of data quickly (e.g., using dictionaries for fast lookups).\n",
    "\n",
    "- Problem Solving:   The right structure simplifies coding solutions to complex problems (e.g., using stacks for undo functionality).\n",
    "\n",
    "- Built-in Support:   Python’s syntax and standard library make using and manipulating data structures very intuitive and powerful.\n",
    "\n",
    "- Foundation for Algorithms:   Understanding data structures is key to implementing and optimizing algorithms in Python."
   ]
  },
  {
   "cell_type": "markdown",
   "id": "8f66cf8d-3fe8-4ce8-8c46-d8fc13e22218",
   "metadata": {},
   "source": [
    "**Q2. Explain the difference between mutable and immutable data types with examples**"
   ]
  },
  {
   "cell_type": "markdown",
   "id": "23574af4-cd49-4d62-ba80-f4a2f096ac8f",
   "metadata": {},
   "source": [
    "**Ans.** In Python, data types are classified as either mutable or immutable depending on whether their internal values can be changed after the object is created.\n",
    "\n",
    "- Mutable Data Types:\n",
    "    - Definition: A mutable object allows modification of its contents without changing its identity (memory address).\n",
    "    - Key Point: Changes occur in place, and the original object is updated.\n",
    "    - Common Mutable Types: list, dict, set, bytearray\n",
    "    - Examples of Mutable Types:"
   ]
  },
  {
   "cell_type": "markdown",
   "id": "fd0fe68c-d925-419e-ab1d-d9b0cfbd6277",
   "metadata": {},
   "source": [
    "- List "
   ]
  },
  {
   "cell_type": "code",
   "execution_count": 1,
   "id": "97be9b58-f536-4c15-be90-3dd290bc1585",
   "metadata": {},
   "outputs": [
    {
     "name": "stdout",
     "output_type": "stream",
     "text": [
      "['apple', 'banana', 'orange']\n"
     ]
    }
   ],
   "source": [
    "# List Example\n",
    "fruits = ['apple', 'banana']\n",
    "fruits.append('orange')  # Adds to the list\n",
    "print(fruits)  # Output: ['apple', 'banana', 'orange']"
   ]
  },
  {
   "cell_type": "markdown",
   "id": "edb6acf4-b9d8-42eb-8b90-8a73dcb4ecdb",
   "metadata": {},
   "source": [
    "- Dictionary"
   ]
  },
  {
   "cell_type": "code",
   "execution_count": 2,
   "id": "a8d2281f-f74d-4ff5-bb71-391ef3a325de",
   "metadata": {},
   "outputs": [
    {
     "name": "stdout",
     "output_type": "stream",
     "text": [
      "{'name': 'Alice', 'age': 26}\n"
     ]
    }
   ],
   "source": [
    "# Dictionary Example\n",
    "person = {'name': 'Alice', 'age': 25}\n",
    "person['age'] = 26  # Modifies the existing key\n",
    "print(person)  # Output: {'name': 'Alice', 'age': 26}"
   ]
  },
  {
   "cell_type": "markdown",
   "id": "132a135b-af10-48a1-8809-523f039cf67c",
   "metadata": {},
   "source": [
    "- Set "
   ]
  },
  {
   "cell_type": "code",
   "execution_count": 3,
   "id": "d0a176af-7759-4899-b95d-013531c1b4df",
   "metadata": {},
   "outputs": [
    {
     "name": "stdout",
     "output_type": "stream",
     "text": [
      "{'green', 'blue', 'red'}\n"
     ]
    }
   ],
   "source": [
    "# Set Example\n",
    "colors = {'red', 'green'}\n",
    "colors.add('blue')  # Adds a new element\n",
    "print(colors)  # Output: {'red', 'green', 'blue'}"
   ]
  },
  {
   "cell_type": "markdown",
   "id": "e0d21270-db33-4385-ae9b-5ce05624eb56",
   "metadata": {},
   "source": [
    "- Bytearray"
   ]
  },
  {
   "cell_type": "code",
   "execution_count": 4,
   "id": "1b57a518-30b7-4b9c-b6c8-0b3fb844dfec",
   "metadata": {},
   "outputs": [
    {
     "name": "stdout",
     "output_type": "stream",
     "text": [
      "bytearray(b'Hello')\n"
     ]
    }
   ],
   "source": [
    "# Bytearray Example\n",
    "b = bytearray(b'hello')\n",
    "b[0] = 72  # Changes first byte (ASCII for 'H')\n",
    "print(b)  # Output: bytearray(b'Hello')"
   ]
  },
  {
   "cell_type": "markdown",
   "id": "9a46ac0f-fe87-4a4a-93aa-61f36c111dc4",
   "metadata": {},
   "source": [
    "- Immutable Data Types:\n",
    "    - Definition: An immutable object cannot be modified after creation. Any operation that alters its content results in a new object being created.\n",
    "    - Key Point: The original object remains unchanged.\n",
    "    - Common Immutable Types: int, float, bool, str, tuple, frozenset, bytes.\n",
    "    - Examples of Immutable Types:"
   ]
  },
  {
   "cell_type": "markdown",
   "id": "ae7f4fb2-b4ee-4a5d-8e1e-0fed7a19c549",
   "metadata": {},
   "source": [
    "- Integer"
   ]
  },
  {
   "cell_type": "code",
   "execution_count": 5,
   "id": "205505a6-e7e0-4538-b119-ce192f1399e2",
   "metadata": {},
   "outputs": [
    {
     "name": "stdout",
     "output_type": "stream",
     "text": [
      "11\n"
     ]
    }
   ],
   "source": [
    "# Integer Example\n",
    "x = 10\n",
    "x = x + 1  # Creates a new integer object\n",
    "print(x)  # Output: 11"
   ]
  },
  {
   "cell_type": "markdown",
   "id": "8999fa02-f8a3-4e8a-b9c5-4ae1b3a83bf8",
   "metadata": {},
   "source": [
    "- Float"
   ]
  },
  {
   "cell_type": "code",
   "execution_count": 6,
   "id": "9df5d613-7292-4b1e-8143-2fbdf59bd981",
   "metadata": {},
   "outputs": [
    {
     "name": "stdout",
     "output_type": "stream",
     "text": [
      "6.28\n"
     ]
    }
   ],
   "source": [
    "# Float Example\n",
    "pi = 3.14\n",
    "pi = pi * 2  # New object created\n",
    "print(pi)  # Output: 6.28"
   ]
  },
  {
   "cell_type": "markdown",
   "id": "f1bb7d4d-def3-41d3-ad39-e0cb8ec6075e",
   "metadata": {},
   "source": [
    "- Boolean"
   ]
  },
  {
   "cell_type": "code",
   "execution_count": 7,
   "id": "82be84e5-598d-4393-b21e-e963f009a2cb",
   "metadata": {},
   "outputs": [
    {
     "name": "stdout",
     "output_type": "stream",
     "text": [
      "False\n"
     ]
    }
   ],
   "source": [
    "# Boolean Example\n",
    "flag = True\n",
    "flag = not flag  # New boolean object\n",
    "print(flag)  # Output: False"
   ]
  },
  {
   "cell_type": "markdown",
   "id": "bfbb4f9d-3542-4cc2-ab03-da72e55086df",
   "metadata": {},
   "source": [
    "- String"
   ]
  },
  {
   "cell_type": "code",
   "execution_count": 8,
   "id": "02368632-a8f5-41b2-a69d-8e051aa00dc2",
   "metadata": {},
   "outputs": [
    {
     "name": "stdout",
     "output_type": "stream",
     "text": [
      "Hello World\n"
     ]
    }
   ],
   "source": [
    "# String Example \n",
    "\n",
    "greeting = \"Hello\"\n",
    "greeting += \" World\"  # New string created\n",
    "print(greeting)  # Output: \"Hello World\""
   ]
  },
  {
   "cell_type": "markdown",
   "id": "9c646625-d640-465d-9993-ea1385ef948b",
   "metadata": {},
   "source": [
    "- Tuple"
   ]
  },
  {
   "cell_type": "code",
   "execution_count": 14,
   "id": "44df0b05-5903-4652-8552-5222e4734b64",
   "metadata": {},
   "outputs": [
    {
     "ename": "TypeError",
     "evalue": "'tuple' object does not support item assignment",
     "output_type": "error",
     "traceback": [
      "\u001b[1;31m---------------------------------------------------------------------------\u001b[0m",
      "\u001b[1;31mTypeError\u001b[0m                                 Traceback (most recent call last)",
      "Cell \u001b[1;32mIn[14], line 3\u001b[0m\n\u001b[0;32m      1\u001b[0m \u001b[38;5;66;03m# Tuple Example with error\u001b[39;00m\n\u001b[0;32m      2\u001b[0m coordinates \u001b[38;5;241m=\u001b[39m (\u001b[38;5;241m10\u001b[39m, \u001b[38;5;241m20\u001b[39m)\n\u001b[1;32m----> 3\u001b[0m \u001b[43mcoordinates\u001b[49m\u001b[43m[\u001b[49m\u001b[38;5;241;43m0\u001b[39;49m\u001b[43m]\u001b[49m \u001b[38;5;241m=\u001b[39m \u001b[38;5;241m15\u001b[39m  \u001b[38;5;66;03m# Error: Tuples are immutable\u001b[39;00m\n\u001b[0;32m      4\u001b[0m \u001b[38;5;28mprint\u001b[39m(coordinates)\n",
      "\u001b[1;31mTypeError\u001b[0m: 'tuple' object does not support item assignment"
     ]
    }
   ],
   "source": [
    "# Tuple Example with error\n",
    "coordinates = (10, 20)\n",
    "coordinates[0] = 15  # Error: Tuples are immutable\n",
    "print(coordinates)"
   ]
  },
  {
   "cell_type": "code",
   "execution_count": 15,
   "id": "1372fa76-6787-4dc5-915a-92eb05403409",
   "metadata": {},
   "outputs": [
    {
     "name": "stdout",
     "output_type": "stream",
     "text": [
      "(10, 20)\n"
     ]
    }
   ],
   "source": [
    "# Tuple Example \n",
    "coordinates = (10, 20)\n",
    "# coordinates[0] = 15  # ❌ Error: Tuples are immutable\n",
    "print(coordinates)  # Output: (10, 20)"
   ]
  },
  {
   "cell_type": "markdown",
   "id": "797a84ea-05ba-425e-8804-7e355576cd37",
   "metadata": {},
   "source": [
    "- Frozenset"
   ]
  },
  {
   "cell_type": "code",
   "execution_count": 21,
   "id": "fba549da-2aeb-4cee-ada9-082c7061558d",
   "metadata": {},
   "outputs": [
    {
     "name": "stdout",
     "output_type": "stream",
     "text": [
      "frozenset({1, 2, 3})\n"
     ]
    }
   ],
   "source": [
    "# Frozenset Example\n",
    "fs = frozenset([1, 2, 3])\n",
    "# fs.add(4)  # ❌ Error: frozensets are immutable\n",
    "print(fs)  # Output: frozenset({1, 2, 3})"
   ]
  },
  {
   "cell_type": "markdown",
   "id": "2ec38d26-aaa4-49ba-85a8-104f20a5cc57",
   "metadata": {},
   "source": [
    "- Bytes"
   ]
  },
  {
   "cell_type": "code",
   "execution_count": 22,
   "id": "6cf4acf2-ce9a-488b-a600-16cd9d362b18",
   "metadata": {},
   "outputs": [
    {
     "name": "stdout",
     "output_type": "stream",
     "text": [
      "b'hello'\n"
     ]
    }
   ],
   "source": [
    "# Bytes Example\n",
    "data = b'hello'\n",
    "# data[0] = 72  # ❌ Error: bytes are immutable\n",
    "print(data)  # Output: b'hello'"
   ]
  },
  {
   "cell_type": "markdown",
   "id": "405661d5-bdee-46b1-8b66-ebb943f9a1c6",
   "metadata": {},
   "source": [
    "`Comparison Table`:\n",
    "\n",
    "| Feature                 | Mutable                            | Immutable                                   |\n",
    "| ----------------------- | ---------------------------------- | ------------------------------------------- |\n",
    "| Can be modified?        | ✅ Yes                              | ❌ No                                        |\n",
    "| Memory address changes? | ❌ No (same object)                 | ✅ Yes (new object created)                  |\n",
    "| Suitable for changes?   | Yes (dynamic content)              | No (fixed content)                          |\n",
    "| Common examples         | `list`, `dict`, `set`, `bytearray` | `int`, `str`, `tuple`, `frozenset`, `bytes` |\n",
    "\n",
    "\n",
    "`Important Ponits to remember` :\n",
    "- Understanding the difference between mutable and immutable types is crucial for:\n",
    "- Writing efficient and bug-free code\n",
    "- Avoiding unintended side effects when passing objects to functions\n",
    "- Managing memory and performance effectively in large applications"
   ]
  },
  {
   "cell_type": "markdown",
   "id": "14b5becc-5a37-44df-af29-a5980f9690a0",
   "metadata": {},
   "source": [
    "**Q3. What are the main differences between lists and tuples in Python**"
   ]
  },
  {
   "cell_type": "markdown",
   "id": "05bd41f0-b4fc-4ae7-b7a6-97d7fa896440",
   "metadata": {},
   "source": [
    "**Ans.** The definitions of list and tuple in Python are as:\n",
    "- List:- A list in Python is an ordered, mutable collection of elements that can hold items of any data type. Lists allow duplicate values and support operations such as adding, removing, and updating elements.\n",
    "    - Syntax: Defined using square brackets []\n",
    "    - Example:   my_list = [1, 2, 3, 'apple']\n",
    "\n",
    "- Tuple :  A tuple in Python is an ordered, immutable collection of elements. Once a tuple is created, its contents cannot be changed. Like lists, tuples can contain elements of different data types and allow duplicates.\n",
    "    - Syntax: Defined using parentheses ()\n",
    "    - Example:   my_tuple = (1, 2, 3, 'apple')\n",
    "\n",
    "> Difference betwen List & Tuple are shown below: \n",
    "\n",
    "| Feature                      | **List**                                                    | **Tuple**                                         |\n",
    "| ---------------------------- | ----------------------------------------------------------- | ------------------------------------------------- |\n",
    "| **Definition**               | A list is a mutable sequence                                | A tuple is an immutable sequence                  |\n",
    "| **Syntax**                   | Created using square brackets `[]`                          | Created using parentheses `()`                    |\n",
    "| **Mutability**               | ✅ Mutable (can be changed)                                  | ❌ Immutable (cannot be changed)                   |\n",
    "| **Methods Available**        | Many built-in methods like `append()`, `remove()`, `sort()` | Fewer methods (mostly read-only)                  |\n",
    "| **Performance**              | Slower than tuples (more memory usage due to flexibility)   | Faster and more memory-efficient                  |\n",
    "| **Use Case**                 | Used for collections that may change (e.g. dynamic data)    | Used for fixed data (e.g. coordinates, constants) |\n",
    "| **Can be a dictionary key?** | ❌ No (not hashable)                                         | ✅ Yes (if elements are also immutable)            |"
   ]
  },
  {
   "cell_type": "code",
   "execution_count": 23,
   "id": "70a7cdfe-3d73-4608-a04a-6cf5735dd931",
   "metadata": {},
   "outputs": [
    {
     "name": "stdout",
     "output_type": "stream",
     "text": [
      "[1, 2, 3, 4]\n"
     ]
    }
   ],
   "source": [
    "# Example – List\n",
    "my_list = [1, 2, 3]\n",
    "my_list.append(4)\n",
    "print(my_list)  # Output: [1, 2, 3, 4]"
   ]
  },
  {
   "cell_type": "code",
   "execution_count": 24,
   "id": "b43dfb2b-5113-4837-a71d-714fa045eb90",
   "metadata": {},
   "outputs": [
    {
     "name": "stdout",
     "output_type": "stream",
     "text": [
      "(1, 2, 3)\n"
     ]
    }
   ],
   "source": [
    "# Example – Tuple\n",
    "my_tuple = (1, 2, 3)\n",
    "# my_tuple[0] = 10  # Error: Tuples are immutable\n",
    "print(my_tuple)  # Output: (1, 2, 3)"
   ]
  },
  {
   "cell_type": "markdown",
   "id": "9eaa8f97-ece0-4990-8d28-7dc905dde42c",
   "metadata": {},
   "source": [
    "**Q4.  Describe how dictionaries store data.**"
   ]
  },
  {
   "cell_type": "markdown",
   "id": "ba4033d6-0cc8-4c8a-9407-60476fdbef1e",
   "metadata": {},
   "source": [
    "**Ans.** A dictionary in Python is an unordered, mutable collection that stores data in key-value pairs. It uses a highly optimized data structure called a hash table to store and retrieve values efficiently.\n",
    "\n",
    "- Basic Structure : A dictionary is written using curly braces `{}` with keys and values separated by a colon `:`\n",
    "    - Example:  person = { \"name\": \"Umer Nazir\", \"age\": 30, \"city\": \"Srinagar\"}\n",
    " - Each item consists of a key and a value.\n",
    " - Keys must be unique and immutable (e.g., strings, numbers, or tuples).\n",
    " - Values can be of any data type.\n",
    "\n",
    "> Internal Working (How Data is Stored)\n",
    "- Python dictionaries use a hash table for storage. Here's how it works:\n",
    "    - Hashing the Key:\n",
    "        - Python applies a hash function to each key using the built-in hash() function.\n",
    "        - The result is a hash value — an integer that determines where the key-value pair is placed in memory.\n",
    "\n",
    "    - Indexing:\n",
    "         - The hash value is mapped to an index in an internal array (the hash table).\n",
    "         - This index tells Python where to store or find the value.\n",
    "\n",
    "    - Handling Collisions:\n",
    "         - If two keys produce the same hash index, Python uses techniques like open addressing to resolve the conflict and find another available slot.\n",
    "    - Retrieval:\n",
    "        - To get a value, Python hashes the key, finds the corresponding index, and returns the associated value.\n",
    "        - Average time complexity for lookup, insert, and delete: O(1).\n",
    "\n",
    "🧪 Example below Python hashes 'score', locates it in memory, and retrieves 85."
   ]
  },
  {
   "cell_type": "code",
   "execution_count": 26,
   "id": "eaa54a7d-b31d-424c-bf66-a8bffb51f337",
   "metadata": {},
   "outputs": [
    {
     "name": "stdout",
     "output_type": "stream",
     "text": [
      "85\n"
     ]
    }
   ],
   "source": [
    "student = {'name': 'Umer Nazir', 'score': 85}\n",
    "print(student['score'])  # Output: 85"
   ]
  },
  {
   "cell_type": "markdown",
   "id": "b5647c2c-7ab4-4d2b-899b-f80ef12723b2",
   "metadata": {},
   "source": [
    "**Q5. Why might you use a set instead of a list in Python?**"
   ]
  },
  {
   "cell_type": "markdown",
   "id": "36797ab0-0657-468f-8c6e-441ca1b82fcf",
   "metadata": {},
   "source": [
    "**Ans.** In Python, you might choose to use a set instead of a list for several key reasons:\n",
    "- Uniqueness of Elements:\n",
    "    - Sets automatically eliminate duplicates.\n",
    "    - If you want to store only unique items, a set is ideal."
   ]
  },
  {
   "cell_type": "code",
   "execution_count": 1,
   "id": "77f57da3-28aa-40e0-96a8-936b296b69a4",
   "metadata": {},
   "outputs": [
    {
     "name": "stdout",
     "output_type": "stream",
     "text": [
      "{1, 2, 3}\n"
     ]
    }
   ],
   "source": [
    "my_list = [1, 2, 2, 3] #list conatins duplicate entry\n",
    "my_set = set(my_list)\n",
    "print(my_set)  # Output: {1, 2, 3}"
   ]
  },
  {
   "cell_type": "markdown",
   "id": "45025205-525f-4a41-a8f8-f43b7f1a4329",
   "metadata": {},
   "source": [
    "- Faster Membership Testing: \n",
    "    - Sets use hash tables internally, making in checks much faster than lists."
   ]
  },
  {
   "cell_type": "code",
   "execution_count": 4,
   "id": "cfcad082-d3dd-4170-901d-991a2a84f4d2",
   "metadata": {},
   "outputs": [
    {
     "name": "stdout",
     "output_type": "stream",
     "text": [
      "True\n",
      "True\n"
     ]
    }
   ],
   "source": [
    "my_list = [1, 2, 3, 4, 5]\n",
    "my_set = {1, 2, 3, 4, 5}\n",
    "\n",
    "print(5 in my_list)  # Slower for large lists\n",
    "print(5 in my_set)   # Faster"
   ]
  },
  {
   "cell_type": "markdown",
   "id": "d14744a9-7f3e-490d-bbbc-d500d71971e5",
   "metadata": {},
   "source": [
    "- Built-in Set Operations:\n",
    "    - Sets support mathematical operations like union, intersection, difference, etc."
   ]
  },
  {
   "cell_type": "code",
   "execution_count": 3,
   "id": "2897f5d9-ec72-4025-b9f5-2fc61fca172d",
   "metadata": {},
   "outputs": [
    {
     "name": "stdout",
     "output_type": "stream",
     "text": [
      "{2, 3}\n",
      "{1, 2, 3, 4}\n"
     ]
    }
   ],
   "source": [
    "a = {1, 2, 3}\n",
    "b = {2, 3, 4}\n",
    "\n",
    "print(a & b)  # Intersection: {2, 3}\n",
    "print(a | b)  # Union: {1, 2, 3, 4}"
   ]
  },
  {
   "cell_type": "markdown",
   "id": "474ddca8-a9a9-4e56-ba69-0d7bbddf24f7",
   "metadata": {},
   "source": [
    "- When not to use a set:\n",
    "    - If you need to:\n",
    "        - Maintain the order of elements (use a list or collections.OrderedDict instead).\n",
    "        - Allow duplicates.\n",
    "        - Use elements that are not hashable (e.g., lists or other sets).\n",
    "\n",
    " \n",
    "**Summary of Set vs List**\n",
    "\n",
    "| Feature               | List     | Set              |\n",
    "| --------------------- | -------- | ---------------- |\n",
    "| Duplicates allowed    | ✅ Yes    | ❌ No             |\n",
    "| Order maintained      | ✅ Yes    | ❌ No (unordered) |\n",
    "| Membership test speed | ❌ Slower | ✅ Faster         |\n",
    "| Set operations        | ❌ No     | ✅ Yes            |\n"
   ]
  },
  {
   "cell_type": "markdown",
   "id": "7ba9c406-6af0-4998-a160-b7ebd3d9bd82",
   "metadata": {},
   "source": [
    "**Q6. What is a string in Python, and how is it different from a list?**"
   ]
  },
  {
   "cell_type": "markdown",
   "id": "373eb713-190f-42c3-a41c-d69fe4895a84",
   "metadata": {},
   "source": [
    "**Ans.** A **string** is a sequence of characters enclosed in quotes `\" \"`. It is used to store and manipulate textual data. while as **list** is a sequence that can hold multiple data types, including numbers, strings, or even other lists, a list is enclosed in squae brackets `[]`\n",
    "\n",
    "- Key Differences Between a String and a List:\n",
    "\n",
    "| Feature    | String                          | List                            |\n",
    "| ---------- | ------------------------------- | ------------------------------- |\n",
    "| Data type  | Text (characters)               | Any data type (mixed allowed)   |\n",
    "| Syntax     | Enclosed in quotes              | Enclosed in square brackets     |\n",
    "| Mutability | ❌ Immutable (cannot be changed) | ✅ Mutable (can be changed)      |\n",
    "| Elements   | Individual characters           | Any type (e.g. int, str, bool)  |\n",
    "| Example    | `\"apple\"`                       | `[\"apple\", \"banana\", \"cherry\"]` |\n",
    "\n",
    "Examlpe of string & List are shoown below"
   ]
  },
  {
   "cell_type": "code",
   "execution_count": 8,
   "id": "c9ae656f-23fa-4db8-bc13-88f1247649cf",
   "metadata": {},
   "outputs": [
    {
     "name": "stdout",
     "output_type": "stream",
     "text": [
      "e\n"
     ]
    }
   ],
   "source": [
    "# Strin example\n",
    "my_string = \"Hello, world!\"\n",
    "s = \"hello\"\n",
    "print(s[1])      # 'e'\n",
    "# s[0] = \"H\"     # ❌ Error: strings are immutable\n"
   ]
  },
  {
   "cell_type": "code",
   "execution_count": 9,
   "id": "e2adbcad-033a-46ca-b7e5-4d89f55a63a9",
   "metadata": {},
   "outputs": [
    {
     "name": "stdout",
     "output_type": "stream",
     "text": [
      "e\n",
      "['H', 'e', 'l', 'l', 'o']\n"
     ]
    }
   ],
   "source": [
    "# List example \n",
    "l = [\"h\", \"e\", \"l\", \"l\", \"o\"]\n",
    "print(l[1])      # 'e'\n",
    "l[0] = \"H\"       # ✅ OK\n",
    "print(l)         # ['H', 'e', 'l', 'l', 'o']\n"
   ]
  },
  {
   "cell_type": "markdown",
   "id": "77ed79b7-3e1b-4273-b132-6f80475f12d9",
   "metadata": {},
   "source": [
    "**Q7.  How do tuples ensure data integrity in Python?**"
   ]
  },
  {
   "cell_type": "markdown",
   "id": "2c7a9ea0-08c1-43e4-a663-3f3ddb008ec3",
   "metadata": {},
   "source": [
    "**Ans.**  Tuples help ensure data integrity because they are immutable — meaning once created, they cannot be changed. This immutability provides several key benefits:\n",
    "\n",
    "- Prevents Accidental Changes: Once you store data in a tuple, no one can modify it (not even you, unless you create a new tuple)."
   ]
  },
  {
   "cell_type": "code",
   "execution_count": 10,
   "id": "39c80d09-a5a8-487b-809a-9aa9d2b64d9b",
   "metadata": {},
   "outputs": [],
   "source": [
    "person = (\"Alice\", 30)\n",
    "# person[1] = 31  ❌ This will raise a TypeError\n",
    "\n",
    "# This protects the data from accidental edits, helping maintain integrity"
   ]
  },
  {
   "cell_type": "markdown",
   "id": "b639ed2f-61c3-46b6-b872-1984ffbb808f",
   "metadata": {},
   "source": [
    "- Safe for Constants and Fixed Structures: Tuples are ideal for data that should not change, like:\n",
    "    - GPS coordinates\n",
    "    - RGB color values\n",
    "    - Database records"
   ]
  },
  {
   "cell_type": "code",
   "execution_count": 11,
   "id": "0827b204-a436-473a-8a73-0810f5d9b70d",
   "metadata": {},
   "outputs": [],
   "source": [
    "coordinates = (40.7128, -74.0060)  # New York City"
   ]
  },
  {
   "cell_type": "markdown",
   "id": "46263fe1-3a5b-4ad7-beba-2df6f34cb27d",
   "metadata": {},
   "source": [
    "- Hashable and Usable as Dictionary Keys:  Because they're immutable, tuples can be used as keys in dictionaries (lists can’t)."
   ]
  },
  {
   "cell_type": "code",
   "execution_count": 13,
   "id": "ee269c4c-74ae-4cdc-8994-4abd0de4640e",
   "metadata": {},
   "outputs": [],
   "source": [
    "location_data = {\n",
    "    (40.7128, -74.0060): \"New York\",\n",
    "    (34.0522, -118.2437): \"Los Angeles\"\n",
    "}\n",
    "# This ensures the keys (tuples) remain reliable over time."
   ]
  },
  {
   "cell_type": "markdown",
   "id": "f4748ce7-8e11-4035-81a6-6301dc298853",
   "metadata": {},
   "source": [
    "- Supports Structured and Predictable Data:\n",
    "    - Tuples help represent fixed data structures, similar to records in databases.\n",
    "    - Their fixed size and order ensure consistent data handling.\n",
    "\n",
    "**Summary**\n",
    "| Feature                 | Tuple Benefit                         |\n",
    "| ----------------------- | ------------------------------------- |\n",
    "| Immutable               | Prevents accidental changes           |\n",
    "| Hashable                | Usable as reliable dictionary keys    |\n",
    "| Fixed structure         | Great for consistent, structured data |\n",
    "| Protects data integrity | Ensures the data remains unmodified   |\n"
   ]
  },
  {
   "cell_type": "markdown",
   "id": "3b977ee4-22e5-479f-a059-4553f4eb132c",
   "metadata": {},
   "source": [
    "**Q8. What is a hash table, and how does it relate to dictionaries in Python?**"
   ]
  },
  {
   "cell_type": "markdown",
   "id": "5431972a-b4b4-4df3-af1c-48bb52f7516a",
   "metadata": {},
   "source": [
    "**Ans.** A hash table is a data structure that stores key-value pairs and provides fast access to values based on their keys. It uses a hash function to convert each key into a unique number (called a hash), which determines where the value is stored in memory.\n",
    "\n",
    "**Working:** \n",
    "- You insert a key-value pair like \"name\": \"Alice\".\n",
    "- Python runs a hash function on \"name\" (e.g., hash(\"name\")).\n",
    "- That hash is used to find a memory location (called a \"bucket\").\n",
    "- The value \"Alice\" is stored at that location."
   ]
  },
  {
   "cell_type": "markdown",
   "id": "f79883a8-81ab-4142-9825-33c3517e8cc2",
   "metadata": {},
   "source": [
    "- In Python, the dict type is implemented using a hash table."
   ]
  },
  {
   "cell_type": "code",
   "execution_count": 14,
   "id": "67ab4710-1814-4fbe-a47f-4b7f15b65746",
   "metadata": {},
   "outputs": [],
   "source": [
    "person = {\n",
    "    \"name\": \"Alice\",\n",
    "    \"age\": 30,\n",
    "    \"city\": \"New York\"\n",
    "}"
   ]
  },
  {
   "cell_type": "markdown",
   "id": "5e9ea100-4470-4d0f-b9a0-b0179f1963ea",
   "metadata": {},
   "source": [
    "- \"name\" → hash → stored in a specific slot → points to \"Alice\"\n",
    "- Fast lookup: person[\"name\"] is O(1) on average — very fast!"
   ]
  },
  {
   "cell_type": "markdown",
   "id": "342cf35a-f8d8-4dfb-8772-334461a6bd6f",
   "metadata": {},
   "source": [
    "**Advantages of Using Hash Tables in dict:**\n",
    "\n",
    "| Feature                | Benefit                            |\n",
    "| ---------------------- | ---------------------------------- |\n",
    "| Fast lookups           | Average-case **O(1)** time         |\n",
    "| Efficient updates      | Insert/Update in constant time     |\n",
    "| Flexible keys          | As long as they are **hashable**   |\n",
    "| Easy key-value storage | No need for custom data structures |"
   ]
  },
  {
   "cell_type": "markdown",
   "id": "dc1e0ff1-b9f0-4c3a-94b8-7ca5008e597b",
   "metadata": {},
   "source": [
    "- Key Requirement: Keys Must Be Hashable: \n",
    "    - Immutable types like strings, numbers, and tuples are hashable.\n",
    "    - Mutable types like lists or other dicts are not hashable and can't be used as dictionary keys."
   ]
  },
  {
   "cell_type": "code",
   "execution_count": 15,
   "id": "399c6afa-8cc6-4e76-b0f1-56a941d99da3",
   "metadata": {},
   "outputs": [
    {
     "ename": "TypeError",
     "evalue": "unhashable type: 'list'",
     "output_type": "error",
     "traceback": [
      "\u001b[1;31m---------------------------------------------------------------------------\u001b[0m",
      "\u001b[1;31mTypeError\u001b[0m                                 Traceback (most recent call last)",
      "Cell \u001b[1;32mIn[15], line 2\u001b[0m\n\u001b[0;32m      1\u001b[0m \u001b[38;5;28mhash\u001b[39m(\u001b[38;5;124m\"\u001b[39m\u001b[38;5;124mhello\u001b[39m\u001b[38;5;124m\"\u001b[39m)     \u001b[38;5;66;03m# ✅ Works\u001b[39;00m\n\u001b[1;32m----> 2\u001b[0m \u001b[38;5;28;43mhash\u001b[39;49m\u001b[43m(\u001b[49m\u001b[43m[\u001b[49m\u001b[38;5;241;43m1\u001b[39;49m\u001b[43m,\u001b[49m\u001b[43m \u001b[49m\u001b[38;5;241;43m2\u001b[39;49m\u001b[43m,\u001b[49m\u001b[43m \u001b[49m\u001b[38;5;241;43m3\u001b[39;49m\u001b[43m]\u001b[49m\u001b[43m)\u001b[49m    \u001b[38;5;66;03m# ❌ TypeError: unhashable type\u001b[39;00m\n",
      "\u001b[1;31mTypeError\u001b[0m: unhashable type: 'list'"
     ]
    }
   ],
   "source": [
    "hash(\"hello\")     # ✅ Works\n",
    "hash([1, 2, 3])    # ❌ TypeError: unhashable type"
   ]
  },
  {
   "cell_type": "markdown",
   "id": "716e0d82-23fe-44df-b9d1-a8a1a1dff855",
   "metadata": {},
   "source": [
    "**Q9. Can lists contain different data types in Python?**"
   ]
  },
  {
   "cell_type": "markdown",
   "id": "277ad4e3-d386-49dc-97b3-e1bb314d90ea",
   "metadata": {},
   "source": [
    "**Ans.** Python lists are heterogeneous, meaning they can store elements of any type, even mixed in the same list."
   ]
  },
  {
   "cell_type": "code",
   "execution_count": 17,
   "id": "413a6044-e4f2-47c5-839c-e47ccf751bce",
   "metadata": {},
   "outputs": [
    {
     "name": "stdout",
     "output_type": "stream",
     "text": [
      "[42, 'hello', 3.14, True, [1, 2, 3], {'a': 1}]\n"
     ]
    }
   ],
   "source": [
    "my_list = [42, \"hello\", 3.14, True, [1, 2, 3], {\"a\": 1}]\n",
    "print(my_list)"
   ]
  },
  {
   "cell_type": "markdown",
   "id": "2433afba-e205-4b50-b37a-5931a6bfd8ff",
   "metadata": {},
   "source": [
    "- This list contains:\n",
    "    - An integer (42)\n",
    "    - A string (\"hello\")\n",
    "    - A float (3.14)\n",
    "    - A boolean (True)\n",
    "    - Another list ([1, 2, 3])\n",
    "    - A dictionary ({\"a\": 1})\n",
    "\n",
    "\n",
    "- You can group related but different types of data together.\n",
    "- Great for quick prototyping or passing complex data structures.\n"
   ]
  },
  {
   "cell_type": "code",
   "execution_count": 18,
   "id": "8630f744-bb6c-4b4d-9149-5b4369fa91d0",
   "metadata": {},
   "outputs": [],
   "source": [
    "student = [\"Alice\", 20, 3.8, True]\n",
    "# Name (str), Age (int), GPA (float), Enrolled (bool)"
   ]
  },
  {
   "cell_type": "markdown",
   "id": "c68020e5-275c-43be-b81d-cab5a72228ab",
   "metadata": {},
   "source": [
    "- Things to Keep in Mind:\n",
    "    - Just because s can mix types doesn’t always mean you should — it can make code harder to understand or process.\n",
    "    - Be careful when looping or applying operations — you may need to check data types:"
   ]
  },
  {
   "cell_type": "code",
   "execution_count": 19,
   "id": "60d30efa-9395-4224-b209-4d0083d7fa27",
   "metadata": {},
   "outputs": [
    {
     "name": "stdout",
     "output_type": "stream",
     "text": [
      "String found: hello\n"
     ]
    }
   ],
   "source": [
    "for item in my_list:\n",
    "    if isinstance(item, str):\n",
    "        print(\"String found:\", item)\n"
   ]
  },
  {
   "cell_type": "markdown",
   "id": "55c80a08-2cc2-428a-87de-2ae5817a5715",
   "metadata": {},
   "source": [
    "**Q10. Explain why strings are immutable in Python**"
   ]
  }
 ],
 "metadata": {
  "kernelspec": {
   "display_name": "Python 3 (ipykernel)",
   "language": "python",
   "name": "python3"
  },
  "language_info": {
   "codemirror_mode": {
    "name": "ipython",
    "version": 3
   },
   "file_extension": ".py",
   "mimetype": "text/x-python",
   "name": "python",
   "nbconvert_exporter": "python",
   "pygments_lexer": "ipython3",
   "version": "3.13.3"
  }
 },
 "nbformat": 4,
 "nbformat_minor": 5
}
